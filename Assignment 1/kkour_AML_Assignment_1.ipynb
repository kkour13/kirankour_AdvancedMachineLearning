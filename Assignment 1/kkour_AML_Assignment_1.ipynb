{
  "nbformat": 4,
  "nbformat_minor": 0,
  "metadata": {
    "colab": {
      "provenance": []
    },
    "kernelspec": {
      "name": "python3",
      "display_name": "Python 3"
    },
    "language_info": {
      "name": "python"
    }
  },
  "cells": [
    {
      "cell_type": "markdown",
      "source": [
        "#**Advanced Machine Learning**"
      ],
      "metadata": {
        "id": "GcFNMRbk0jXw"
      }
    },
    {
      "cell_type": "markdown",
      "source": [
        "### **Assignment 1: Building Neural Networks**\n",
        "\n",
        "For the IMDB example that we discussed in class, do the following:\n",
        "\n",
        "1.You used two hidden layers. Try using one or three hidden layers, and see how doing so affects validation and test accuracy.\n",
        "\n",
        "2.Try using layers with more hidden units or fewer hidden units: 32 units, 64 units, and so on.\n",
        "\n",
        "3.Try using the 'mse' loss function instead of 'binary_crossentropy'.\n",
        "\n",
        "4.Try using the tanh activation (an activation that was popular in the early days of neural networks) instead of 'relu'\n",
        "\n",
        ".5.Use any technique we studied in class, and these include regularization, dropout, etc., to get your model to perform better on validation.\n",
        "\n"
      ],
      "metadata": {
        "id": "fiicgx6c2C4A"
      }
    },
    {
      "cell_type": "markdown",
      "source": [
        "# **_Importing required Packages_**\n",
        "\n"
      ],
      "metadata": {
        "id": "MVGoZVW52mkk"
      }
    },
    {
      "cell_type": "code",
      "source": [
        "import numpy as np\n",
        "import pandas as pd\n",
        "from pandas import Series, DataFrame\n",
        "\n",
        "\n",
        "import matplotlib.pyplot as plt\n",
        "\n",
        "\n",
        "\n",
        "from tensorflow import keras\n",
        "from tensorflow.keras import models\n",
        "from tensorflow.keras import layers\n",
        "from tensorflow.keras import regularizers\n",
        "from keras.layers import Dropout"
      ],
      "metadata": {
        "id": "8fsbFBc92-Ye"
      },
      "execution_count": null,
      "outputs": []
    },
    {
      "cell_type": "markdown",
      "source": [
        "# **_Importing the IMDB dataset_**"
      ],
      "metadata": {
        "id": "O-SldVTT3c74"
      }
    },
    {
      "cell_type": "code",
      "source": [
        "from tensorflow.keras.datasets import imdb\n",
        "(train_data, train_labels), (test_data, test_labels) = imdb.load_data (\n",
        "    num_words= 10000)"
      ],
      "metadata": {
        "id": "28ZlaYjP3l1w"
      },
      "execution_count": null,
      "outputs": []
    },
    {
      "cell_type": "markdown",
      "source": [
        "Note that \"num_words=10000\" is added in the code. It means that only the top 10,000 most common words will be used to have a more manageable size vector data.\n",
        "\n",
        "The train_data and test_data are lists of reviews, each review being a list of word indices (encoding a sequence of words). The train_labels and test_labels are lists of 0s and 1s, where 0 stands for \"negative\" and 1 stands for \"positive.\""
      ],
      "metadata": {
        "id": "nkevttYPWRSS"
      }
    },
    {
      "cell_type": "code",
      "source": [
        "max([max(sequence) for sequence in train_data])"
      ],
      "metadata": {
        "id": "Rau6WIwWbWCK"
      },
      "execution_count": null,
      "outputs": []
    },
    {
      "cell_type": "markdown",
      "source": [
        "#**_Decoding Reviews back to text_**\n",
        "\n",
        "In this section, we will develop a code to see a specific review"
      ],
      "metadata": {
        "id": "VAk5ziH5yMsP"
      }
    },
    {
      "cell_type": "code",
      "source": [
        "# The word_index assigns a unique index to each word present in the text.\n",
        "word_index = imdb.get_word_index()\n",
        "# We create a reverse dictionary, mapping integer indices to words.\n",
        "reverse_word_index = dict([(value, key) for (key, value) in word_index.items()])\n",
        "# We decode the review; note that our indices were offset by 3\n",
        "# because 0, 1 and 2 are reserved indices for \"padding\", \"start of sequence\", and \"unknown\".\n",
        "decoded_review = ' '.join([reverse_word_index.get(i - 3, '?') for i in train_data[3]])"
      ],
      "metadata": {
        "id": "U6cReYWbzsSg"
      },
      "execution_count": null,
      "outputs": []
    },
    {
      "cell_type": "markdown",
      "source": [
        "#**_Preparing the Data_**\n",
        "\n",
        "_We have to change our reviews from characters into tensors. For this we will one-hot-encode our lists to turn them into vectors of 0s and 1s._ "
      ],
      "metadata": {
        "id": "D9wPf5ej1KI-"
      }
    },
    {
      "cell_type": "code",
      "source": [
        "def vectorize_sequences(sequences, dimension=10000):\n",
        "    # Create an all-zero matrix of shape (len(sequences), dimension)\n",
        "    results = np.zeros((len(sequences), dimension))\n",
        "    for i, sequence in enumerate(sequences):\n",
        "        results[i, sequence] = 1.  # set specific indices of results[i] to 1s\n",
        "    return results\n",
        "\n",
        "# Our vectorized training data\n",
        "x_train = vectorize_sequences(train_data)\n",
        "# Our vectorized test data\n",
        "x_test = vectorize_sequences(test_data)"
      ],
      "metadata": {
        "id": "Ph7DQzMJ1NqK"
      },
      "execution_count": null,
      "outputs": []
    },
    {
      "cell_type": "markdown",
      "source": [
        "_Now let's vectorize the labels_"
      ],
      "metadata": {
        "id": "OdOW84DT2a4Y"
      }
    },
    {
      "cell_type": "code",
      "source": [
        "# Our vectorized labels\n",
        "y_train = np.asarray(train_labels).astype('float32')\n",
        "y_test = np.asarray(test_labels).astype('float32')"
      ],
      "metadata": {
        "id": "0K9765P42d6A"
      },
      "execution_count": null,
      "outputs": []
    },
    {
      "cell_type": "code",
      "source": [
        "# Splitting the data into training and validation set\n",
        "x_val = x_train[:10000]\n",
        "partial_x_train = x_train[10000:]\n",
        "y_val = y_train[:10000]\n",
        "partial_y_train = y_train[10000:]"
      ],
      "metadata": {
        "id": "chqrDF-jZZHu"
      },
      "execution_count": null,
      "outputs": []
    },
    {
      "cell_type": "markdown",
      "source": [
        "# **_Building the Neural Network_**\n",
        "\n"
      ],
      "metadata": {
        "id": "1MAmhneU2z0G"
      }
    },
    {
      "cell_type": "markdown",
      "source": [
        "## **Model 1: 2 layers, 16 Neurons, Activation- relu, Optimizer- rmsprop, Loss- binary_crossentropy** "
      ],
      "metadata": {
        "id": "chb4T4WwkfRl"
      }
    },
    {
      "cell_type": "code",
      "source": [
        "from keras import models\n",
        "from keras import layers\n",
        "\n",
        "model_1 = models.Sequential()\n",
        "model_1.add(layers.Dense(16, activation='relu', input_shape=(10000,)))\n",
        "model_1.add(layers.Dense(16, activation='relu'))\n",
        "model_1.add(layers.Dense(1, activation='sigmoid'))"
      ],
      "metadata": {
        "id": "CNoGXNyv-XMw"
      },
      "execution_count": null,
      "outputs": []
    },
    {
      "cell_type": "code",
      "source": [
        "model_1.compile(optimizer=\"rmsprop\",\n",
        "              loss=\"binary_crossentropy\",\n",
        "              metrics=[\"accuracy\"])"
      ],
      "metadata": {
        "id": "-BUI3Zp9CYXM"
      },
      "execution_count": null,
      "outputs": []
    },
    {
      "cell_type": "markdown",
      "source": [
        "**Validating the Approach**\n",
        "\n",
        "Setting aside a Validation set of 10,000 in order to validate and measure how our training set is performing, which originally was 25,000."
      ],
      "metadata": {
        "id": "XvC24zckCf30"
      }
    },
    {
      "cell_type": "markdown",
      "source": [
        "Now our model will be trained for 25 epochs (25 iterations over all the samples in x_train and y_train tensors) , in the batches of 512 samples. At this step we will monitor the accuracy and loss of the 10,000 samples which we set aside. "
      ],
      "metadata": {
        "id": "VnMgriSIEMYC"
      }
    },
    {
      "cell_type": "code",
      "source": [
        "# Model training\n",
        "history_1 = model_1.fit(partial_x_train,\n",
        "                    partial_y_train,\n",
        "                    epochs=25,\n",
        "                    batch_size=512,\n",
        "                    validation_data=(x_val, y_val))"
      ],
      "metadata": {
        "colab": {
          "base_uri": "https://localhost:8080/"
        },
        "id": "F2pf_OYJE5i1",
        "outputId": "d14a56e7-8c66-4513-dbe1-58acf0f88627"
      },
      "execution_count": null,
      "outputs": [
        {
          "output_type": "stream",
          "name": "stdout",
          "text": [
            "Epoch 1/25\n",
            "30/30 [==============================] - 3s 76ms/step - loss: 0.5137 - accuracy: 0.7763 - val_loss: 0.3869 - val_accuracy: 0.8631\n",
            "Epoch 2/25\n",
            "30/30 [==============================] - 1s 38ms/step - loss: 0.3144 - accuracy: 0.8959 - val_loss: 0.3214 - val_accuracy: 0.8757\n",
            "Epoch 3/25\n",
            "30/30 [==============================] - 1s 39ms/step - loss: 0.2399 - accuracy: 0.9174 - val_loss: 0.2836 - val_accuracy: 0.8877\n",
            "Epoch 4/25\n",
            "30/30 [==============================] - 2s 51ms/step - loss: 0.1919 - accuracy: 0.9354 - val_loss: 0.2741 - val_accuracy: 0.8893\n",
            "Epoch 5/25\n",
            "30/30 [==============================] - 2s 52ms/step - loss: 0.1641 - accuracy: 0.9451 - val_loss: 0.2770 - val_accuracy: 0.8872\n",
            "Epoch 6/25\n",
            "30/30 [==============================] - 1s 43ms/step - loss: 0.1379 - accuracy: 0.9541 - val_loss: 0.3036 - val_accuracy: 0.8808\n",
            "Epoch 7/25\n",
            "30/30 [==============================] - 1s 42ms/step - loss: 0.1176 - accuracy: 0.9629 - val_loss: 0.3068 - val_accuracy: 0.8848\n",
            "Epoch 8/25\n",
            "30/30 [==============================] - 1s 45ms/step - loss: 0.1005 - accuracy: 0.9683 - val_loss: 0.3389 - val_accuracy: 0.8766\n",
            "Epoch 9/25\n",
            "30/30 [==============================] - 1s 38ms/step - loss: 0.0903 - accuracy: 0.9725 - val_loss: 0.3284 - val_accuracy: 0.8819\n",
            "Epoch 10/25\n",
            "30/30 [==============================] - 1s 37ms/step - loss: 0.0752 - accuracy: 0.9800 - val_loss: 0.3453 - val_accuracy: 0.8792\n",
            "Epoch 11/25\n",
            "30/30 [==============================] - 1s 38ms/step - loss: 0.0673 - accuracy: 0.9811 - val_loss: 0.3700 - val_accuracy: 0.8740\n",
            "Epoch 12/25\n",
            "30/30 [==============================] - 2s 51ms/step - loss: 0.0543 - accuracy: 0.9874 - val_loss: 0.3840 - val_accuracy: 0.8754\n",
            "Epoch 13/25\n",
            "30/30 [==============================] - 1s 37ms/step - loss: 0.0492 - accuracy: 0.9881 - val_loss: 0.4036 - val_accuracy: 0.8757\n",
            "Epoch 14/25\n",
            "30/30 [==============================] - 2s 51ms/step - loss: 0.0440 - accuracy: 0.9895 - val_loss: 0.4298 - val_accuracy: 0.8716\n",
            "Epoch 15/25\n",
            "30/30 [==============================] - 2s 54ms/step - loss: 0.0335 - accuracy: 0.9935 - val_loss: 0.4474 - val_accuracy: 0.8723\n",
            "Epoch 16/25\n",
            "30/30 [==============================] - 1s 38ms/step - loss: 0.0299 - accuracy: 0.9943 - val_loss: 0.4707 - val_accuracy: 0.8700\n",
            "Epoch 17/25\n",
            "30/30 [==============================] - 1s 50ms/step - loss: 0.0252 - accuracy: 0.9955 - val_loss: 0.4970 - val_accuracy: 0.8716\n",
            "Epoch 18/25\n",
            "30/30 [==============================] - 2s 58ms/step - loss: 0.0196 - accuracy: 0.9978 - val_loss: 0.5212 - val_accuracy: 0.8701\n",
            "Epoch 19/25\n",
            "30/30 [==============================] - 2s 53ms/step - loss: 0.0180 - accuracy: 0.9983 - val_loss: 0.5524 - val_accuracy: 0.8674\n",
            "Epoch 20/25\n",
            "30/30 [==============================] - 1s 39ms/step - loss: 0.0169 - accuracy: 0.9974 - val_loss: 0.5656 - val_accuracy: 0.8702\n",
            "Epoch 21/25\n",
            "30/30 [==============================] - 2s 71ms/step - loss: 0.0161 - accuracy: 0.9970 - val_loss: 0.5870 - val_accuracy: 0.8700\n",
            "Epoch 22/25\n",
            "30/30 [==============================] - 2s 68ms/step - loss: 0.0080 - accuracy: 0.9998 - val_loss: 0.6092 - val_accuracy: 0.8699\n",
            "Epoch 23/25\n",
            "30/30 [==============================] - 3s 85ms/step - loss: 0.0123 - accuracy: 0.9976 - val_loss: 0.6283 - val_accuracy: 0.8682\n",
            "Epoch 24/25\n",
            "30/30 [==============================] - 2s 51ms/step - loss: 0.0100 - accuracy: 0.9979 - val_loss: 0.6537 - val_accuracy: 0.8703\n",
            "Epoch 25/25\n",
            "30/30 [==============================] - 1s 36ms/step - loss: 0.0048 - accuracy: 0.9998 - val_loss: 0.6719 - val_accuracy: 0.8693\n"
          ]
        }
      ]
    },
    {
      "cell_type": "code",
      "source": [
        "#Summary of the model\n",
        "model_1.summary()"
      ],
      "metadata": {
        "colab": {
          "base_uri": "https://localhost:8080/"
        },
        "id": "00ShbzfBzC3Z",
        "outputId": "f89f3215-cb93-4642-bfab-62c3c6f40dc4"
      },
      "execution_count": null,
      "outputs": [
        {
          "output_type": "stream",
          "name": "stdout",
          "text": [
            "Model: \"sequential_2\"\n",
            "_________________________________________________________________\n",
            " Layer (type)                Output Shape              Param #   \n",
            "=================================================================\n",
            " dense_6 (Dense)             (None, 16)                160016    \n",
            "                                                                 \n",
            " dense_7 (Dense)             (None, 16)                272       \n",
            "                                                                 \n",
            " dense_8 (Dense)             (None, 1)                 17        \n",
            "                                                                 \n",
            "=================================================================\n",
            "Total params: 160,305\n",
            "Trainable params: 160,305\n",
            "Non-trainable params: 0\n",
            "_________________________________________________________________\n"
          ]
        }
      ]
    },
    {
      "cell_type": "markdown",
      "source": [
        "**Now, let's see the History object, which is a dictionary containing data about everything that happened during training.** "
      ],
      "metadata": {
        "id": "0OM-rpeFHUhw"
      }
    },
    {
      "cell_type": "code",
      "source": [
        "history_dict_1 = history_1.history\n",
        "history_dict_1.keys()"
      ],
      "metadata": {
        "colab": {
          "base_uri": "https://localhost:8080/"
        },
        "id": "k9s3xXJhHXB_",
        "outputId": "8eeaf5ab-a64a-48fd-9059-14cc56895722"
      },
      "execution_count": null,
      "outputs": [
        {
          "output_type": "execute_result",
          "data": {
            "text/plain": [
              "dict_keys(['loss', 'accuracy', 'val_loss', 'val_accuracy'])"
            ]
          },
          "metadata": {},
          "execution_count": 18
        }
      ]
    },
    {
      "cell_type": "markdown",
      "source": [
        "**We will now plot the Training and Validation loss, as well as the training and validation accuracy.**"
      ],
      "metadata": {
        "id": "X3Fp3G38Hnch"
      }
    },
    {
      "cell_type": "code",
      "source": [
        "# Training and Validation loss\n",
        "import matplotlib.pyplot as plt\n",
        "history1_dict= history_1.history\n",
        "twoly_loss_values = history1_dict[\"loss\"]\n",
        "twoly_val_loss_values = history1_dict[\"val_loss\"]\n",
        "epochs_1 = range(1, len(twoly_loss_values) + 1)\n",
        "plt.plot(epochs_1, twoly_loss_values, \"bo\", label=\"Training loss\")\n",
        "plt.plot(epochs_1, twoly_val_loss_values, \"b\", label=\"Validation loss\")\n",
        "plt.title(\"Training and validation loss\")\n",
        "plt.xlabel(\"Epochs\")\n",
        "plt.ylabel(\"Loss\")\n",
        "plt.legend()\n",
        "plt.show()"
      ],
      "metadata": {
        "colab": {
          "base_uri": "https://localhost:8080/",
          "height": 295
        },
        "id": "cC6Q8XjTHyfZ",
        "outputId": "7533dc3e-b1ea-4318-8285-3aaf1ddcbf67"
      },
      "execution_count": null,
      "outputs": [
        {
          "output_type": "display_data",
          "data": {
            "text/plain": [
              "<Figure size 432x288 with 1 Axes>"
            ],
            "image/png": "[encoded data removed]"
          },
          "metadata": {
            "needs_background": "light"
          }
        }
      ]
    },
    {
      "cell_type": "code",
      "source": [
        "# Training and Validation Accuracy\n",
        "plt.clf()\n",
        "twoly_acc = history1_dict[\"accuracy\"]\n",
        "twoly_val_acc = history1_dict[\"val_accuracy\"]\n",
        "epochs_1 = range(1, len(twoly_acc) + 1)\n",
        "plt.plot(epochs_1, twoly_acc, \"bo\", label=\"Training acc\")\n",
        "plt.plot(epochs_1, twoly_val_acc, \"b\", label=\"Validation acc\")\n",
        "plt.title(\"Training and validation accuracy\")\n",
        "plt.xlabel(\"Epochs\")\n",
        "plt.ylabel(\"Accuracy\")\n",
        "plt.legend()\n",
        "plt.show()"
      ],
      "metadata": {
        "colab": {
          "base_uri": "https://localhost:8080/",
          "height": 295
        },
        "id": "Yct_t_QaIjJN",
        "outputId": "6475e60a-8727-4f0c-a176-f21fa1d98c0f"
      },
      "execution_count": null,
      "outputs": [
        {
          "output_type": "display_data",
          "data": {
            "text/plain": [
              "<Figure size 432x288 with 1 Axes>"
            ],
            "image/png": "[encoded data removed]"
          },
          "metadata": {
            "needs_background": "light"
          }
        }
      ]
    },
    {
      "cell_type": "markdown",
      "source": [
        "**The results show that the best accuracy on the validation set appears around 4 epochs.** "
      ],
      "metadata": {
        "id": "sep4InbrJj4m"
      }
    },
    {
      "cell_type": "markdown",
      "source": [
        "###**_Back Propagation- Retraining the model using 4 epochs_**"
      ],
      "metadata": {
        "id": "lOQDgYupJ7Iq"
      }
    },
    {
      "cell_type": "code",
      "source": [
        "model_t1 = models.Sequential()\n",
        "model_t1.add(layers.Dense(16, activation='relu', input_shape=(10000,)))\n",
        "model_t1.add(layers.Dense(16, activation='relu'))\n",
        "model_t1.add(layers.Dense(1, activation='sigmoid'))\n",
        "\n",
        "model_t1.compile(optimizer='rmsprop',\n",
        "              loss='binary_crossentropy',\n",
        "              metrics=['accuracy'])\n",
        "\n",
        "model_t1.fit(x_train, y_train, epochs=4, batch_size=512)\n",
        "results = model_t1.evaluate(x_test, y_test)"
      ],
      "metadata": {
        "colab": {
          "base_uri": "https://localhost:8080/"
        },
        "id": "vsyc6p5BKD0C",
        "outputId": "7e26bb50-dffe-4ab7-f10c-da8d60f82173"
      },
      "execution_count": null,
      "outputs": [
        {
          "output_type": "stream",
          "name": "stdout",
          "text": [
            "Epoch 1/4\n",
            "49/49 [==============================] - 3s 37ms/step - loss: 0.4604 - accuracy: 0.8092\n",
            "Epoch 2/4\n",
            "49/49 [==============================] - 1s 30ms/step - loss: 0.2668 - accuracy: 0.9043\n",
            "Epoch 3/4\n",
            "49/49 [==============================] - 1s 29ms/step - loss: 0.2085 - accuracy: 0.9241\n",
            "Epoch 4/4\n",
            "49/49 [==============================] - 1s 28ms/step - loss: 0.1776 - accuracy: 0.9370\n",
            "782/782 [==============================] - 2s 3ms/step - loss: 0.2893 - accuracy: 0.8848\n"
          ]
        }
      ]
    },
    {
      "cell_type": "code",
      "source": [
        "results"
      ],
      "metadata": {
        "colab": {
          "base_uri": "https://localhost:8080/"
        },
        "id": "Z_fG9B-pKMn9",
        "outputId": "9636ed6c-efc8-439c-8af5-a1cbf9589e71"
      },
      "execution_count": null,
      "outputs": [
        {
          "output_type": "execute_result",
          "data": {
            "text/plain": [
              "[0.289347380399704, 0.8848400115966797]"
            ]
          },
          "metadata": {},
          "execution_count": 22
        }
      ]
    },
    {
      "cell_type": "markdown",
      "source": [
        "**_The accuracy of the model on the test set is 88.48%_**"
      ],
      "metadata": {
        "id": "BMksgS89MyiH"
      }
    },
    {
      "cell_type": "markdown",
      "source": [
        "## **Model 2: 1 layers, 32 Neurons, Activation- relu, Optimizer- adam, Loss- binary_crossentropy** "
      ],
      "metadata": {
        "id": "IazMz8GOgVGv"
      }
    },
    {
      "cell_type": "code",
      "source": [
        "from keras import models\n",
        "from keras import layers\n",
        "\n",
        "model_2 = models.Sequential()\n",
        "model_2.add(layers.Dense(32, activation='relu', input_shape=(10000,)))\n",
        "model_2.add(layers.Dense(1, activation='sigmoid'))"
      ],
      "metadata": {
        "id": "PTYEfvj_iqa3"
      },
      "execution_count": null,
      "outputs": []
    },
    {
      "cell_type": "code",
      "source": [
        "model_2.compile(optimizer='adam',\n",
        "              loss='binary_crossentropy',\n",
        "              metrics=['accuracy'])"
      ],
      "metadata": {
        "id": "s40pZ-6Ziud4"
      },
      "execution_count": null,
      "outputs": []
    },
    {
      "cell_type": "code",
      "source": [
        "history_2 = model_2.fit(partial_x_train,\n",
        "                    partial_y_train,\n",
        "                    epochs=30,\n",
        "                    batch_size=512,\n",
        "                    validation_data=(x_val, y_val))"
      ],
      "metadata": {
        "colab": {
          "base_uri": "https://localhost:8080/"
        },
        "id": "r_i3QCpzi4aI",
        "outputId": "ad2d0f9d-9c7b-4468-e072-bd40a6d139a7"
      },
      "execution_count": null,
      "outputs": [
        {
          "output_type": "stream",
          "name": "stdout",
          "text": [
            "Epoch 1/30\n",
            "30/30 [==============================] - 5s 145ms/step - loss: 0.4957 - accuracy: 0.7918 - val_loss: 0.3577 - val_accuracy: 0.8666\n",
            "Epoch 2/30\n",
            "30/30 [==============================] - 2s 55ms/step - loss: 0.2721 - accuracy: 0.9092 - val_loss: 0.3016 - val_accuracy: 0.8797\n",
            "Epoch 3/30\n",
            "30/30 [==============================] - 1s 49ms/step - loss: 0.2042 - accuracy: 0.9337 - val_loss: 0.2789 - val_accuracy: 0.8908\n",
            "Epoch 4/30\n",
            "30/30 [==============================] - 1s 42ms/step - loss: 0.1602 - accuracy: 0.9520 - val_loss: 0.2787 - val_accuracy: 0.8877\n",
            "Epoch 5/30\n",
            "30/30 [==============================] - 2s 66ms/step - loss: 0.1341 - accuracy: 0.9625 - val_loss: 0.2838 - val_accuracy: 0.8856\n",
            "Epoch 6/30\n",
            "30/30 [==============================] - 2s 59ms/step - loss: 0.1113 - accuracy: 0.9721 - val_loss: 0.2927 - val_accuracy: 0.8833\n",
            "Epoch 7/30\n",
            "30/30 [==============================] - 1s 47ms/step - loss: 0.0932 - accuracy: 0.9793 - val_loss: 0.3030 - val_accuracy: 0.8810\n",
            "Epoch 8/30\n",
            "30/30 [==============================] - 1s 42ms/step - loss: 0.0791 - accuracy: 0.9841 - val_loss: 0.3155 - val_accuracy: 0.8813\n",
            "Epoch 9/30\n",
            "30/30 [==============================] - 1s 44ms/step - loss: 0.0676 - accuracy: 0.9886 - val_loss: 0.3304 - val_accuracy: 0.8809\n",
            "Epoch 10/30\n",
            "30/30 [==============================] - 1s 43ms/step - loss: 0.0584 - accuracy: 0.9910 - val_loss: 0.3448 - val_accuracy: 0.8785\n",
            "Epoch 11/30\n",
            "30/30 [==============================] - 1s 42ms/step - loss: 0.0499 - accuracy: 0.9931 - val_loss: 0.3602 - val_accuracy: 0.8775\n",
            "Epoch 12/30\n",
            "30/30 [==============================] - 1s 45ms/step - loss: 0.0434 - accuracy: 0.9947 - val_loss: 0.3750 - val_accuracy: 0.8766\n",
            "Epoch 13/30\n",
            "30/30 [==============================] - 1s 46ms/step - loss: 0.0375 - accuracy: 0.9963 - val_loss: 0.3934 - val_accuracy: 0.8726\n",
            "Epoch 14/30\n",
            "30/30 [==============================] - 3s 88ms/step - loss: 0.0331 - accuracy: 0.9974 - val_loss: 0.4068 - val_accuracy: 0.8726\n",
            "Epoch 15/30\n",
            "30/30 [==============================] - 1s 43ms/step - loss: 0.0287 - accuracy: 0.9983 - val_loss: 0.4212 - val_accuracy: 0.8727\n",
            "Epoch 16/30\n",
            "30/30 [==============================] - 1s 42ms/step - loss: 0.0252 - accuracy: 0.9989 - val_loss: 0.4366 - val_accuracy: 0.8729\n",
            "Epoch 17/30\n",
            "30/30 [==============================] - 1s 42ms/step - loss: 0.0221 - accuracy: 0.9994 - val_loss: 0.4511 - val_accuracy: 0.8712\n",
            "Epoch 18/30\n",
            "30/30 [==============================] - 1s 42ms/step - loss: 0.0196 - accuracy: 0.9995 - val_loss: 0.4657 - val_accuracy: 0.8700\n",
            "Epoch 19/30\n",
            "30/30 [==============================] - 1s 43ms/step - loss: 0.0173 - accuracy: 0.9997 - val_loss: 0.4792 - val_accuracy: 0.8709\n",
            "Epoch 20/30\n",
            "30/30 [==============================] - 1s 41ms/step - loss: 0.0155 - accuracy: 0.9997 - val_loss: 0.4925 - val_accuracy: 0.8701\n",
            "Epoch 21/30\n",
            "30/30 [==============================] - 1s 42ms/step - loss: 0.0140 - accuracy: 0.9999 - val_loss: 0.5057 - val_accuracy: 0.8688\n",
            "Epoch 22/30\n",
            "30/30 [==============================] - 1s 41ms/step - loss: 0.0126 - accuracy: 0.9998 - val_loss: 0.5181 - val_accuracy: 0.8681\n",
            "Epoch 23/30\n",
            "30/30 [==============================] - 2s 72ms/step - loss: 0.0115 - accuracy: 0.9999 - val_loss: 0.5299 - val_accuracy: 0.8678\n",
            "Epoch 24/30\n",
            "30/30 [==============================] - 2s 51ms/step - loss: 0.0104 - accuracy: 0.9999 - val_loss: 0.5428 - val_accuracy: 0.8679\n",
            "Epoch 25/30\n",
            "30/30 [==============================] - 1s 43ms/step - loss: 0.0095 - accuracy: 0.9999 - val_loss: 0.5546 - val_accuracy: 0.8669\n",
            "Epoch 26/30\n",
            "30/30 [==============================] - 1s 40ms/step - loss: 0.0087 - accuracy: 0.9999 - val_loss: 0.5661 - val_accuracy: 0.8665\n",
            "Epoch 27/30\n",
            "30/30 [==============================] - 1s 42ms/step - loss: 0.0079 - accuracy: 0.9999 - val_loss: 0.5763 - val_accuracy: 0.8663\n",
            "Epoch 28/30\n",
            "30/30 [==============================] - 2s 58ms/step - loss: 0.0073 - accuracy: 0.9999 - val_loss: 0.5867 - val_accuracy: 0.8658\n",
            "Epoch 29/30\n",
            "30/30 [==============================] - 1s 43ms/step - loss: 0.0068 - accuracy: 0.9999 - val_loss: 0.5967 - val_accuracy: 0.8661\n",
            "Epoch 30/30\n",
            "30/30 [==============================] - 1s 42ms/step - loss: 0.0062 - accuracy: 0.9999 - val_loss: 0.6079 - val_accuracy: 0.8657\n"
          ]
        }
      ]
    },
    {
      "cell_type": "code",
      "source": [
        "model_2.summary()"
      ],
      "metadata": {
        "colab": {
          "base_uri": "https://localhost:8080/"
        },
        "id": "RzrRz_jk6DkR",
        "outputId": "cca3fb92-215c-4510-aaae-91712c9b3c4e"
      },
      "execution_count": null,
      "outputs": [
        {
          "output_type": "stream",
          "name": "stdout",
          "text": [
            "Model: \"sequential_4\"\n",
            "_________________________________________________________________\n",
            " Layer (type)                Output Shape              Param #   \n",
            "=================================================================\n",
            " dense_12 (Dense)            (None, 32)                320032    \n",
            "                                                                 \n",
            " dense_13 (Dense)            (None, 1)                 33        \n",
            "                                                                 \n",
            "=================================================================\n",
            "Total params: 320,065\n",
            "Trainable params: 320,065\n",
            "Non-trainable params: 0\n",
            "_________________________________________________________________\n"
          ]
        }
      ]
    },
    {
      "cell_type": "code",
      "source": [
        "history_dict_2 = history_2.history\n",
        "history_dict_2.keys()"
      ],
      "metadata": {
        "colab": {
          "base_uri": "https://localhost:8080/"
        },
        "id": "RbW3DzVkjIG7",
        "outputId": "54cb47bd-b333-48f9-fbb7-26dc7eba11c1"
      },
      "execution_count": null,
      "outputs": [
        {
          "output_type": "execute_result",
          "data": {
            "text/plain": [
              "dict_keys(['loss', 'accuracy', 'val_loss', 'val_accuracy'])"
            ]
          },
          "metadata": {},
          "execution_count": 36
        }
      ]
    },
    {
      "cell_type": "code",
      "source": [
        "import matplotlib.pyplot as plt\n",
        "history2_dict = history_2.history\n",
        "onelay_loss = history2_dict['loss']\n",
        "onelay_val_loss = history2_dict['val_loss']\n",
        "\n",
        "onelay_epochs = range(1, len(onelay_loss) + 1)\n",
        "\n",
        "\n",
        "plt.plot(onelay_epochs, onelay_loss, 'ro', label='Training loss')\n",
        "plt.plot(onelay_epochs, onelay_val_loss, 'r', label='Validation loss')\n",
        "plt.title('Training and validation loss')\n",
        "plt.xlabel('Epochs')\n",
        "plt.ylabel('Loss')\n",
        "plt.legend()\n",
        "\n",
        "plt.show()"
      ],
      "metadata": {
        "colab": {
          "base_uri": "https://localhost:8080/",
          "height": 295
        },
        "id": "VRwEEq37jJl4",
        "outputId": "9d63de87-a5df-4bfe-a352-e6ac8ce73d1b"
      },
      "execution_count": null,
      "outputs": [
        {
          "output_type": "display_data",
          "data": {
            "text/plain": [
              "<Figure size 432x288 with 1 Axes>"
            ],
            "image/png": "[encoded data removed]"
          },
          "metadata": {
            "needs_background": "light"
          }
        }
      ]
    },
    {
      "cell_type": "code",
      "source": [
        "plt.clf()   # clear figure\n",
        "onelay_acc_values = history2_dict['accuracy']\n",
        "onelay_val_acc_values = history2_dict['val_accuracy']\n",
        "\n",
        "plt.plot(onelay_epochs, onelay_acc_values, 'ro', label='Training acc')\n",
        "plt.plot(onelay_epochs, onelay_val_acc_values, 'r', label='Validation acc')\n",
        "plt.title('Training and validation accuracy')\n",
        "plt.xlabel('Epochs')\n",
        "plt.ylabel('Loss')\n",
        "plt.legend()\n",
        "\n",
        "plt.show()"
      ],
      "metadata": {
        "colab": {
          "base_uri": "https://localhost:8080/",
          "height": 295
        },
        "id": "1wDLE3rejeFl",
        "outputId": "0a3449d6-631d-49be-d27e-e0b51769f04b"
      },
      "execution_count": null,
      "outputs": [
        {
          "output_type": "display_data",
          "data": {
            "text/plain": [
              "<Figure size 432x288 with 1 Axes>"
            ],
            "image/png": "[encoded data removed]"
          },
          "metadata": {
            "needs_background": "light"
          }
        }
      ]
    },
    {
      "cell_type": "markdown",
      "source": [
        "**The results show that the best accuracy on the validation set appears around 4 epochs.** "
      ],
      "metadata": {
        "id": "1g0kqlceiCBG"
      }
    },
    {
      "cell_type": "markdown",
      "source": [
        "###**_Back Propagation- Retraining the model using 4 epochs_**"
      ],
      "metadata": {
        "id": "kvFC-7a6h5Yp"
      }
    },
    {
      "cell_type": "code",
      "source": [
        "model_t2 = models.Sequential()\n",
        "model_t2.add(layers.Dense(32, activation='relu', input_shape=(10000,)))\n",
        "model_t2.add(layers.Dense(1, activation='sigmoid'))\n",
        "\n",
        "model_t2.compile(optimizer='adam',\n",
        "              loss='binary_crossentropy',\n",
        "              metrics=['accuracy'])\n",
        "\n",
        "model_t2.fit(x_train, y_train, epochs=4, batch_size=512)\n",
        "results = model_t2.evaluate(x_test, y_test)"
      ],
      "metadata": {
        "colab": {
          "base_uri": "https://localhost:8080/"
        },
        "id": "yXmvIoj5js3V",
        "outputId": "3bee5a0a-bdc6-4c3b-ccc3-dd0a6901a03f"
      },
      "execution_count": null,
      "outputs": [
        {
          "output_type": "stream",
          "name": "stdout",
          "text": [
            "Epoch 1/4\n",
            "49/49 [==============================] - 2s 35ms/step - loss: 0.4411 - accuracy: 0.8280\n",
            "Epoch 2/4\n",
            "49/49 [==============================] - 2s 32ms/step - loss: 0.2410 - accuracy: 0.9155\n",
            "Epoch 3/4\n",
            "49/49 [==============================] - 2s 31ms/step - loss: 0.1873 - accuracy: 0.9360\n",
            "Epoch 4/4\n",
            "49/49 [==============================] - 2s 32ms/step - loss: 0.1557 - accuracy: 0.9485\n",
            "782/782 [==============================] - 2s 2ms/step - loss: 0.2953 - accuracy: 0.8838\n"
          ]
        }
      ]
    },
    {
      "cell_type": "code",
      "source": [
        "results"
      ],
      "metadata": {
        "colab": {
          "base_uri": "https://localhost:8080/"
        },
        "id": "v6eXT9E1j0ni",
        "outputId": "d675602d-4149-4146-cff2-7086ec8ea4f2"
      },
      "execution_count": null,
      "outputs": [
        {
          "output_type": "execute_result",
          "data": {
            "text/plain": [
              "[0.2953276038169861, 0.883840024471283]"
            ]
          },
          "metadata": {},
          "execution_count": 40
        }
      ]
    },
    {
      "cell_type": "markdown",
      "source": [
        "**_The accuracy of the model on the test set is 88.38%_**"
      ],
      "metadata": {
        "id": "X_W3g0WhN8mD"
      }
    },
    {
      "cell_type": "markdown",
      "source": [
        "## **Model 3: 3 layers, 32 Neurons, Activation- relu, Optimizer- rmsprop, Loss- binary_crossentropy, Dropout- 0.5** "
      ],
      "metadata": {
        "id": "muwfI3QvOoRN"
      }
    },
    {
      "cell_type": "code",
      "source": [
        "from keras.layers import Dropout\n",
        "\n",
        "\n",
        "model_3 = models.Sequential()\n",
        "model_3.add(layers.Dense(32, activation='relu', input_shape=(10000,)))\n",
        "model_3.add(layers.Dropout(rate= 0.5))\n",
        "model_3.add(layers.Dense(32, activation='relu'))\n",
        "model_3.add(layers.Dropout(rate=0.5))\n",
        "model_3.add(layers.Dense(32, activation='relu'))\n",
        "model_3.add(layers.Dropout(rate=0.5))\n",
        "model_3.add(layers.Dense(1, activation='sigmoid'))"
      ],
      "metadata": {
        "id": "aKsYiWIFOvMa"
      },
      "execution_count": null,
      "outputs": []
    },
    {
      "cell_type": "code",
      "source": [
        "model_3.compile(optimizer= 'rmsprop',\n",
        "              loss='binary_crossentropy',\n",
        "              metrics=['accuracy'])"
      ],
      "metadata": {
        "id": "GnpigQ3DO0W4"
      },
      "execution_count": null,
      "outputs": []
    },
    {
      "cell_type": "code",
      "source": [
        "history_3 = model_3.fit(partial_x_train,\n",
        "                    partial_y_train,\n",
        "                    epochs=40,\n",
        "                    batch_size=520,\n",
        "                    validation_data=(x_val, y_val))"
      ],
      "metadata": {
        "colab": {
          "base_uri": "https://localhost:8080/"
        },
        "id": "xNz2qsAdPBND",
        "outputId": "4c915777-be2c-4b43-cc9e-abfcc9b6627a"
      },
      "execution_count": null,
      "outputs": [
        {
          "output_type": "stream",
          "name": "stdout",
          "text": [
            "Epoch 1/40\n",
            "29/29 [==============================] - 3s 70ms/step - loss: 0.6556 - accuracy: 0.6020 - val_loss: 0.5209 - val_accuracy: 0.8392\n",
            "Epoch 2/40\n",
            "29/29 [==============================] - 1s 46ms/step - loss: 0.5002 - accuracy: 0.7820 - val_loss: 0.3623 - val_accuracy: 0.8651\n",
            "Epoch 3/40\n",
            "29/29 [==============================] - 1s 43ms/step - loss: 0.3744 - accuracy: 0.8587 - val_loss: 0.2968 - val_accuracy: 0.8820\n",
            "Epoch 4/40\n",
            "29/29 [==============================] - 2s 65ms/step - loss: 0.3005 - accuracy: 0.8910 - val_loss: 0.2825 - val_accuracy: 0.8868\n",
            "Epoch 5/40\n",
            "29/29 [==============================] - 2s 66ms/step - loss: 0.2529 - accuracy: 0.9138 - val_loss: 0.2798 - val_accuracy: 0.8881\n",
            "Epoch 6/40\n",
            "29/29 [==============================] - 1s 45ms/step - loss: 0.2095 - accuracy: 0.9296 - val_loss: 0.3028 - val_accuracy: 0.8879\n",
            "Epoch 7/40\n",
            "29/29 [==============================] - 1s 45ms/step - loss: 0.1769 - accuracy: 0.9432 - val_loss: 0.3202 - val_accuracy: 0.8832\n",
            "Epoch 8/40\n",
            "29/29 [==============================] - 1s 46ms/step - loss: 0.1525 - accuracy: 0.9502 - val_loss: 0.3508 - val_accuracy: 0.8867\n",
            "Epoch 9/40\n",
            "29/29 [==============================] - 1s 45ms/step - loss: 0.1264 - accuracy: 0.9600 - val_loss: 0.4102 - val_accuracy: 0.8861\n",
            "Epoch 10/40\n",
            "29/29 [==============================] - 1s 45ms/step - loss: 0.1100 - accuracy: 0.9663 - val_loss: 0.4059 - val_accuracy: 0.8843\n",
            "Epoch 11/40\n",
            "29/29 [==============================] - 1s 46ms/step - loss: 0.1038 - accuracy: 0.9671 - val_loss: 0.4370 - val_accuracy: 0.8839\n",
            "Epoch 12/40\n",
            "29/29 [==============================] - 1s 46ms/step - loss: 0.0892 - accuracy: 0.9721 - val_loss: 0.4913 - val_accuracy: 0.8776\n",
            "Epoch 13/40\n",
            "29/29 [==============================] - 2s 72ms/step - loss: 0.0766 - accuracy: 0.9759 - val_loss: 0.5211 - val_accuracy: 0.8833\n",
            "Epoch 14/40\n",
            "29/29 [==============================] - 2s 62ms/step - loss: 0.0760 - accuracy: 0.9753 - val_loss: 0.5681 - val_accuracy: 0.8825\n",
            "Epoch 15/40\n",
            "29/29 [==============================] - 1s 46ms/step - loss: 0.0634 - accuracy: 0.9801 - val_loss: 0.6182 - val_accuracy: 0.8786\n",
            "Epoch 16/40\n",
            "29/29 [==============================] - 1s 46ms/step - loss: 0.0569 - accuracy: 0.9811 - val_loss: 0.6499 - val_accuracy: 0.8796\n",
            "Epoch 17/40\n",
            "29/29 [==============================] - 1s 47ms/step - loss: 0.0622 - accuracy: 0.9813 - val_loss: 0.6145 - val_accuracy: 0.8809\n",
            "Epoch 18/40\n",
            "29/29 [==============================] - 1s 44ms/step - loss: 0.0562 - accuracy: 0.9825 - val_loss: 0.7073 - val_accuracy: 0.8820\n",
            "Epoch 19/40\n",
            "29/29 [==============================] - 1s 46ms/step - loss: 0.0568 - accuracy: 0.9812 - val_loss: 0.7395 - val_accuracy: 0.8836\n",
            "Epoch 20/40\n",
            "29/29 [==============================] - 1s 46ms/step - loss: 0.0565 - accuracy: 0.9825 - val_loss: 0.7697 - val_accuracy: 0.8813\n",
            "Epoch 21/40\n",
            "29/29 [==============================] - 1s 45ms/step - loss: 0.0572 - accuracy: 0.9819 - val_loss: 0.6996 - val_accuracy: 0.8792\n",
            "Epoch 22/40\n",
            "29/29 [==============================] - 2s 68ms/step - loss: 0.0552 - accuracy: 0.9831 - val_loss: 0.7939 - val_accuracy: 0.8795\n",
            "Epoch 23/40\n",
            "29/29 [==============================] - 2s 59ms/step - loss: 0.0525 - accuracy: 0.9821 - val_loss: 0.8230 - val_accuracy: 0.8752\n",
            "Epoch 24/40\n",
            "29/29 [==============================] - 1s 46ms/step - loss: 0.0561 - accuracy: 0.9821 - val_loss: 0.8449 - val_accuracy: 0.8729\n",
            "Epoch 25/40\n",
            "29/29 [==============================] - 1s 46ms/step - loss: 0.0638 - accuracy: 0.9817 - val_loss: 0.8132 - val_accuracy: 0.8809\n",
            "Epoch 26/40\n",
            "29/29 [==============================] - 1s 45ms/step - loss: 0.0537 - accuracy: 0.9841 - val_loss: 0.8333 - val_accuracy: 0.8783\n",
            "Epoch 27/40\n",
            "29/29 [==============================] - 1s 46ms/step - loss: 0.0536 - accuracy: 0.9833 - val_loss: 0.8290 - val_accuracy: 0.8774\n",
            "Epoch 28/40\n",
            "29/29 [==============================] - 1s 48ms/step - loss: 0.0549 - accuracy: 0.9839 - val_loss: 0.8456 - val_accuracy: 0.8807\n",
            "Epoch 29/40\n",
            "29/29 [==============================] - 1s 45ms/step - loss: 0.0510 - accuracy: 0.9840 - val_loss: 0.8577 - val_accuracy: 0.8791\n",
            "Epoch 30/40\n",
            "29/29 [==============================] - 1s 46ms/step - loss: 0.0557 - accuracy: 0.9831 - val_loss: 0.8656 - val_accuracy: 0.8777\n",
            "Epoch 31/40\n",
            "29/29 [==============================] - 2s 76ms/step - loss: 0.0566 - accuracy: 0.9851 - val_loss: 0.8641 - val_accuracy: 0.8795\n",
            "Epoch 32/40\n",
            "29/29 [==============================] - 2s 55ms/step - loss: 0.0550 - accuracy: 0.9834 - val_loss: 0.8291 - val_accuracy: 0.8722\n",
            "Epoch 33/40\n",
            "29/29 [==============================] - 1s 45ms/step - loss: 0.0490 - accuracy: 0.9856 - val_loss: 0.9341 - val_accuracy: 0.8778\n",
            "Epoch 34/40\n",
            "29/29 [==============================] - 1s 46ms/step - loss: 0.0498 - accuracy: 0.9849 - val_loss: 0.9732 - val_accuracy: 0.8775\n",
            "Epoch 35/40\n",
            "29/29 [==============================] - 1s 47ms/step - loss: 0.0541 - accuracy: 0.9842 - val_loss: 0.8989 - val_accuracy: 0.8757\n",
            "Epoch 36/40\n",
            "29/29 [==============================] - 1s 45ms/step - loss: 0.0628 - accuracy: 0.9825 - val_loss: 0.9323 - val_accuracy: 0.8752\n",
            "Epoch 37/40\n",
            "29/29 [==============================] - 1s 46ms/step - loss: 0.0531 - accuracy: 0.9836 - val_loss: 0.9633 - val_accuracy: 0.8780\n",
            "Epoch 38/40\n",
            "29/29 [==============================] - 1s 46ms/step - loss: 0.0566 - accuracy: 0.9849 - val_loss: 0.9436 - val_accuracy: 0.8768\n",
            "Epoch 39/40\n",
            "29/29 [==============================] - 1s 48ms/step - loss: 0.0546 - accuracy: 0.9841 - val_loss: 1.0138 - val_accuracy: 0.8763\n",
            "Epoch 40/40\n",
            "29/29 [==============================] - 6s 215ms/step - loss: 0.0530 - accuracy: 0.9847 - val_loss: 0.9975 - val_accuracy: 0.8770\n"
          ]
        }
      ]
    },
    {
      "cell_type": "code",
      "source": [
        "model_3.summary()"
      ],
      "metadata": {
        "colab": {
          "base_uri": "https://localhost:8080/"
        },
        "id": "Ru2z0DB86YHv",
        "outputId": "ee14d50a-7516-4571-b240-b4da68d992ba"
      },
      "execution_count": null,
      "outputs": [
        {
          "output_type": "stream",
          "name": "stdout",
          "text": [
            "Model: \"sequential_6\"\n",
            "_________________________________________________________________\n",
            " Layer (type)                Output Shape              Param #   \n",
            "=================================================================\n",
            " dense_16 (Dense)            (None, 32)                320032    \n",
            "                                                                 \n",
            " dropout (Dropout)           (None, 32)                0         \n",
            "                                                                 \n",
            " dense_17 (Dense)            (None, 32)                1056      \n",
            "                                                                 \n",
            " dropout_1 (Dropout)         (None, 32)                0         \n",
            "                                                                 \n",
            " dense_18 (Dense)            (None, 32)                1056      \n",
            "                                                                 \n",
            " dropout_2 (Dropout)         (None, 32)                0         \n",
            "                                                                 \n",
            " dense_19 (Dense)            (None, 1)                 33        \n",
            "                                                                 \n",
            "=================================================================\n",
            "Total params: 322,177\n",
            "Trainable params: 322,177\n",
            "Non-trainable params: 0\n",
            "_________________________________________________________________\n"
          ]
        }
      ]
    },
    {
      "cell_type": "code",
      "source": [
        "history_dict_3 = history_3.history\n",
        "history_dict_3.keys()"
      ],
      "metadata": {
        "colab": {
          "base_uri": "https://localhost:8080/"
        },
        "id": "SoAsJRKaPQUM",
        "outputId": "71b6feca-bad1-44c1-ab22-167d1b9a93d9"
      },
      "execution_count": null,
      "outputs": [
        {
          "output_type": "execute_result",
          "data": {
            "text/plain": [
              "dict_keys(['loss', 'accuracy', 'val_loss', 'val_accuracy'])"
            ]
          },
          "metadata": {},
          "execution_count": 45
        }
      ]
    },
    {
      "cell_type": "code",
      "source": [
        "import matplotlib.pyplot as plt\n",
        "history3_dict = history_3.history\n",
        "threelay_loss = history3_dict['loss']\n",
        "threelay_val_loss = history3_dict['val_loss']\n",
        "\n",
        "threelay_epochs = range(1, len(threelay_loss) + 1)\n",
        "\n",
        "\n",
        "plt.plot(threelay_epochs, threelay_loss, 'go', label='Training loss')\n",
        "plt.plot(threelay_epochs, threelay_val_loss, 'g', label='Validation loss')\n",
        "plt.title('Training and validation loss')\n",
        "plt.xlabel('Epochs')\n",
        "plt.ylabel('Loss')\n",
        "plt.legend()\n",
        "\n",
        "plt.show()\n"
      ],
      "metadata": {
        "colab": {
          "base_uri": "https://localhost:8080/",
          "height": 295
        },
        "id": "1EP21yioPRu7",
        "outputId": "e343faa1-343c-43cb-a20a-1d583c8ca815"
      },
      "execution_count": null,
      "outputs": [
        {
          "output_type": "display_data",
          "data": {
            "text/plain": [
              "<Figure size 432x288 with 1 Axes>"
            ],
            "image/png": "[encoded data removed]"
          },
          "metadata": {
            "needs_background": "light"
          }
        }
      ]
    },
    {
      "cell_type": "code",
      "source": [
        "plt.clf()   # clear figure\n",
        "threelay_acc_values = history3_dict['accuracy']\n",
        "threelay_val_acc_values = history3_dict['val_accuracy']\n",
        "\n",
        "plt.plot(threelay_epochs, threelay_acc_values, 'go', label='Training acc')\n",
        "plt.plot(threelay_epochs, threelay_val_acc_values, 'g', label='Validation acc')\n",
        "plt.title('Training and validation accuracy')\n",
        "plt.xlabel('Epochs')\n",
        "plt.ylabel('Loss')\n",
        "plt.legend()\n",
        "\n",
        "plt.show()"
      ],
      "metadata": {
        "colab": {
          "base_uri": "https://localhost:8080/",
          "height": 295
        },
        "id": "MlYATNuDPkQz",
        "outputId": "4ef67623-2ac6-4b8e-ed78-d389dcfc4623"
      },
      "execution_count": null,
      "outputs": [
        {
          "output_type": "display_data",
          "data": {
            "text/plain": [
              "<Figure size 432x288 with 1 Axes>"
            ],
            "image/png": "[encoded data removed]"
          },
          "metadata": {
            "needs_background": "light"
          }
        }
      ]
    },
    {
      "cell_type": "markdown",
      "source": [
        "**The results show that the best accuracy on the validation set appears around 5 epochs.**"
      ],
      "metadata": {
        "id": "txR1fZ6Ui3vu"
      }
    },
    {
      "cell_type": "markdown",
      "source": [
        "###**_Back Propagation- Retraining the model using 5 epochs_**"
      ],
      "metadata": {
        "id": "oZHwAiHii-Jg"
      }
    },
    {
      "cell_type": "code",
      "source": [
        "model_t3 = models.Sequential()\n",
        "model_t3.add(layers.Dense(32, activation='relu', input_shape=(10000,)))\n",
        "model_t3.add(layers.Dropout(rate= 0.5))\n",
        "model_t3.add(layers.Dense(32, activation='relu'))\n",
        "model_t3.add(layers.Dropout(rate= 0.5))\n",
        "model_t3.add(layers.Dense(32, activation='relu'))\n",
        "model_t3.add(layers.Dropout(rate= 0.5))\n",
        "model_t3.add(layers.Dense(1, activation='sigmoid'))\n",
        "\n",
        "model_t3.compile(optimizer='rmsprop',\n",
        "              loss='binary_crossentropy',\n",
        "              metrics=['accuracy'])\n",
        "\n",
        "model_t3.fit(x_train, y_train, epochs=5, batch_size=520)\n",
        "results = model_t3.evaluate(x_test, y_test)"
      ],
      "metadata": {
        "colab": {
          "base_uri": "https://localhost:8080/"
        },
        "id": "ffwLewLIPvnC",
        "outputId": "9ac6bdd4-ac55-4fb5-ad43-7bef49b86a61"
      },
      "execution_count": null,
      "outputs": [
        {
          "output_type": "stream",
          "name": "stdout",
          "text": [
            "Epoch 1/5\n",
            "49/49 [==============================] - 4s 48ms/step - loss: 0.6138 - accuracy: 0.6583\n",
            "Epoch 2/5\n",
            "49/49 [==============================] - 2s 34ms/step - loss: 0.4302 - accuracy: 0.8295\n",
            "Epoch 3/5\n",
            "49/49 [==============================] - 2s 33ms/step - loss: 0.3255 - accuracy: 0.8832\n",
            "Epoch 4/5\n",
            "49/49 [==============================] - 2s 34ms/step - loss: 0.2658 - accuracy: 0.9075\n",
            "Epoch 5/5\n",
            "49/49 [==============================] - 2s 33ms/step - loss: 0.2295 - accuracy: 0.9224\n",
            "782/782 [==============================] - 2s 3ms/step - loss: 0.3196 - accuracy: 0.8842\n"
          ]
        }
      ]
    },
    {
      "cell_type": "markdown",
      "source": [
        "**_The accuracy of the model on the test set is 88.42%_**"
      ],
      "metadata": {
        "id": "QOWYkIKGjJ_W"
      }
    },
    {
      "cell_type": "markdown",
      "source": [
        "## **Model 4: 1 layers, 64 Neurons, Activation- tanh, Optimizer- rmsprop, Loss- binary_crossentropy** "
      ],
      "metadata": {
        "id": "xoa_PS3rklhu"
      }
    },
    {
      "cell_type": "code",
      "source": [
        "model_4 = models.Sequential()\n",
        "model_4.add(layers.Dense(64, activation='tanh', input_shape=(10000,)))\n",
        "model_4.add(layers.Dense(1, activation='sigmoid'))"
      ],
      "metadata": {
        "id": "MuVVAX_NlUki"
      },
      "execution_count": null,
      "outputs": []
    },
    {
      "cell_type": "code",
      "source": [
        "model_4.compile(optimizer='rmsprop',\n",
        "              loss='binary_crossentropy',\n",
        "              metrics=['accuracy'])"
      ],
      "metadata": {
        "id": "3Bzwtu8wlkIU"
      },
      "execution_count": null,
      "outputs": []
    },
    {
      "cell_type": "code",
      "source": [
        "history_4 = model_4.fit(partial_x_train,\n",
        "                    partial_y_train,\n",
        "                    epochs=40,\n",
        "                    batch_size=512,\n",
        "                    validation_data=(x_val, y_val))"
      ],
      "metadata": {
        "colab": {
          "base_uri": "https://localhost:8080/"
        },
        "id": "WBNuTvholsY8",
        "outputId": "8ca4a14e-6e11-428c-e5dc-feb2e33bc1bd"
      },
      "execution_count": null,
      "outputs": [
        {
          "output_type": "stream",
          "name": "stdout",
          "text": [
            "Epoch 1/40\n",
            "30/30 [==============================] - 8s 202ms/step - loss: 0.4789 - accuracy: 0.7923 - val_loss: 0.3947 - val_accuracy: 0.8387\n",
            "Epoch 2/40\n",
            "30/30 [==============================] - 4s 127ms/step - loss: 0.2973 - accuracy: 0.8937 - val_loss: 0.2986 - val_accuracy: 0.8862\n",
            "Epoch 3/40\n",
            "30/30 [==============================] - 4s 123ms/step - loss: 0.2355 - accuracy: 0.9137 - val_loss: 0.2954 - val_accuracy: 0.8782\n",
            "Epoch 4/40\n",
            "30/30 [==============================] - 3s 89ms/step - loss: 0.1961 - accuracy: 0.9309 - val_loss: 0.2786 - val_accuracy: 0.8854\n",
            "Epoch 5/40\n",
            "30/30 [==============================] - 2s 81ms/step - loss: 0.1706 - accuracy: 0.9390 - val_loss: 0.2777 - val_accuracy: 0.8864\n",
            "Epoch 6/40\n",
            "30/30 [==============================] - 2s 59ms/step - loss: 0.1454 - accuracy: 0.9482 - val_loss: 0.2890 - val_accuracy: 0.8850\n",
            "Epoch 7/40\n",
            "30/30 [==============================] - 2s 56ms/step - loss: 0.1307 - accuracy: 0.9550 - val_loss: 0.3080 - val_accuracy: 0.8839\n",
            "Epoch 8/40\n",
            "30/30 [==============================] - 3s 118ms/step - loss: 0.1113 - accuracy: 0.9631 - val_loss: 0.3161 - val_accuracy: 0.8806\n",
            "Epoch 9/40\n",
            "30/30 [==============================] - 2s 66ms/step - loss: 0.1041 - accuracy: 0.9634 - val_loss: 0.3686 - val_accuracy: 0.8746\n",
            "Epoch 10/40\n",
            "30/30 [==============================] - 2s 58ms/step - loss: 0.0905 - accuracy: 0.9703 - val_loss: 0.3563 - val_accuracy: 0.8778\n",
            "Epoch 11/40\n",
            "30/30 [==============================] - 2s 56ms/step - loss: 0.0823 - accuracy: 0.9725 - val_loss: 0.3713 - val_accuracy: 0.8771\n",
            "Epoch 12/40\n",
            "30/30 [==============================] - 2s 65ms/step - loss: 0.0738 - accuracy: 0.9769 - val_loss: 0.3953 - val_accuracy: 0.8738\n",
            "Epoch 13/40\n",
            "30/30 [==============================] - 2s 66ms/step - loss: 0.0664 - accuracy: 0.9788 - val_loss: 0.4163 - val_accuracy: 0.8751\n",
            "Epoch 14/40\n",
            "30/30 [==============================] - 3s 114ms/step - loss: 0.0571 - accuracy: 0.9829 - val_loss: 0.4652 - val_accuracy: 0.8640\n",
            "Epoch 15/40\n",
            "30/30 [==============================] - 2s 58ms/step - loss: 0.0472 - accuracy: 0.9873 - val_loss: 0.4713 - val_accuracy: 0.8723\n",
            "Epoch 16/40\n",
            "30/30 [==============================] - 2s 64ms/step - loss: 0.0500 - accuracy: 0.9849 - val_loss: 0.4737 - val_accuracy: 0.8721\n",
            "Epoch 17/40\n",
            "30/30 [==============================] - 2s 56ms/step - loss: 0.0387 - accuracy: 0.9903 - val_loss: 0.5079 - val_accuracy: 0.8704\n",
            "Epoch 18/40\n",
            "30/30 [==============================] - 2s 57ms/step - loss: 0.0384 - accuracy: 0.9899 - val_loss: 0.5230 - val_accuracy: 0.8691\n",
            "Epoch 19/40\n",
            "30/30 [==============================] - 2s 66ms/step - loss: 0.0317 - accuracy: 0.9925 - val_loss: 0.5461 - val_accuracy: 0.8693\n",
            "Epoch 20/40\n",
            "30/30 [==============================] - 3s 105ms/step - loss: 0.0305 - accuracy: 0.9919 - val_loss: 0.5719 - val_accuracy: 0.8697\n",
            "Epoch 21/40\n",
            "30/30 [==============================] - 2s 58ms/step - loss: 0.0276 - accuracy: 0.9934 - val_loss: 0.5883 - val_accuracy: 0.8676\n",
            "Epoch 22/40\n",
            "30/30 [==============================] - 2s 57ms/step - loss: 0.0307 - accuracy: 0.9911 - val_loss: 0.6127 - val_accuracy: 0.8683\n",
            "Epoch 23/40\n",
            "30/30 [==============================] - 2s 57ms/step - loss: 0.0169 - accuracy: 0.9977 - val_loss: 0.7291 - val_accuracy: 0.8599\n",
            "Epoch 24/40\n",
            "30/30 [==============================] - 2s 59ms/step - loss: 0.0126 - accuracy: 0.9990 - val_loss: 0.6676 - val_accuracy: 0.8657\n",
            "Epoch 25/40\n",
            "30/30 [==============================] - 2s 55ms/step - loss: 0.0210 - accuracy: 0.9945 - val_loss: 0.6797 - val_accuracy: 0.8656\n",
            "Epoch 26/40\n",
            "30/30 [==============================] - 3s 89ms/step - loss: 0.0254 - accuracy: 0.9925 - val_loss: 0.6912 - val_accuracy: 0.8674\n",
            "Epoch 27/40\n",
            "30/30 [==============================] - 2s 83ms/step - loss: 0.0118 - accuracy: 0.9979 - val_loss: 0.8846 - val_accuracy: 0.8520\n",
            "Epoch 28/40\n",
            "30/30 [==============================] - 2s 57ms/step - loss: 0.0096 - accuracy: 0.9986 - val_loss: 0.7385 - val_accuracy: 0.8639\n",
            "Epoch 29/40\n",
            "30/30 [==============================] - 2s 57ms/step - loss: 0.0198 - accuracy: 0.9944 - val_loss: 0.7467 - val_accuracy: 0.8653\n",
            "Epoch 30/40\n",
            "30/30 [==============================] - 2s 66ms/step - loss: 0.0081 - accuracy: 0.9992 - val_loss: 1.0483 - val_accuracy: 0.8339\n",
            "Epoch 31/40\n",
            "30/30 [==============================] - 2s 57ms/step - loss: 0.0107 - accuracy: 0.9975 - val_loss: 0.7950 - val_accuracy: 0.8658\n",
            "Epoch 32/40\n",
            "30/30 [==============================] - 2s 56ms/step - loss: 0.0251 - accuracy: 0.9932 - val_loss: 0.7970 - val_accuracy: 0.8658\n",
            "Epoch 33/40\n",
            "30/30 [==============================] - 3s 96ms/step - loss: 0.0043 - accuracy: 1.0000 - val_loss: 0.8104 - val_accuracy: 0.8655\n",
            "Epoch 34/40\n",
            "30/30 [==============================] - 2s 59ms/step - loss: 0.0204 - accuracy: 0.9937 - val_loss: 0.8278 - val_accuracy: 0.8652\n",
            "Epoch 35/40\n",
            "30/30 [==============================] - 2s 58ms/step - loss: 0.0036 - accuracy: 1.0000 - val_loss: 0.8475 - val_accuracy: 0.8641\n",
            "Epoch 36/40\n",
            "30/30 [==============================] - 2s 57ms/step - loss: 0.0193 - accuracy: 0.9939 - val_loss: 0.8589 - val_accuracy: 0.8659\n",
            "Epoch 37/40\n",
            "30/30 [==============================] - 2s 66ms/step - loss: 0.0031 - accuracy: 1.0000 - val_loss: 0.8702 - val_accuracy: 0.8656\n",
            "Epoch 38/40\n",
            "30/30 [==============================] - 2s 56ms/step - loss: 0.0038 - accuracy: 0.9997 - val_loss: 1.0057 - val_accuracy: 0.8582\n",
            "Epoch 39/40\n",
            "30/30 [==============================] - 3s 87ms/step - loss: 0.0060 - accuracy: 0.9989 - val_loss: 0.9110 - val_accuracy: 0.8650\n",
            "Epoch 40/40\n",
            "30/30 [==============================] - 2s 71ms/step - loss: 0.0195 - accuracy: 0.9936 - val_loss: 0.9255 - val_accuracy: 0.8633\n"
          ]
        }
      ]
    },
    {
      "cell_type": "code",
      "source": [
        "model_4.summary()"
      ],
      "metadata": {
        "colab": {
          "base_uri": "https://localhost:8080/"
        },
        "id": "C9wGtyg6-IGC",
        "outputId": "d8c93e5c-aa35-446f-ebf2-476be07c9257"
      },
      "execution_count": null,
      "outputs": [
        {
          "output_type": "stream",
          "name": "stdout",
          "text": [
            "Model: \"sequential\"\n",
            "_________________________________________________________________\n",
            " Layer (type)                Output Shape              Param #   \n",
            "=================================================================\n",
            " dense (Dense)               (None, 64)                640064    \n",
            "                                                                 \n",
            " dense_1 (Dense)             (None, 1)                 65        \n",
            "                                                                 \n",
            "=================================================================\n",
            "Total params: 640,129\n",
            "Trainable params: 640,129\n",
            "Non-trainable params: 0\n",
            "_________________________________________________________________\n"
          ]
        }
      ]
    },
    {
      "cell_type": "code",
      "source": [
        "history_dict_4 = history_4.history\n",
        "history_dict_4.keys()"
      ],
      "metadata": {
        "colab": {
          "base_uri": "https://localhost:8080/"
        },
        "id": "8wb35DD8sSw3",
        "outputId": "f401b5cb-105f-4187-8508-8f4b189ba668"
      },
      "execution_count": null,
      "outputs": [
        {
          "output_type": "execute_result",
          "data": {
            "text/plain": [
              "dict_keys(['loss', 'accuracy', 'val_loss', 'val_accuracy'])"
            ]
          },
          "metadata": {},
          "execution_count": 10
        }
      ]
    },
    {
      "cell_type": "code",
      "source": [
        "import matplotlib.pyplot as plt\n",
        "history4_dict = history_4.history\n",
        "onelay64_loss = history4_dict['loss']\n",
        "onelay64_val_loss = history4_dict['val_loss']\n",
        "\n",
        "onelay64_epochs = range(1, len(onelay64_loss) + 1)\n",
        "\n",
        "\n",
        "plt.plot(onelay64_epochs, onelay64_loss, 'go', label='Training loss')\n",
        "plt.plot(onelay64_epochs, onelay64_val_loss, 'g', label='Validation loss')\n",
        "plt.title('Training and validation loss')\n",
        "plt.xlabel('Epochs')\n",
        "plt.ylabel('Loss')\n",
        "plt.legend()\n",
        "\n",
        "plt.show()\n"
      ],
      "metadata": {
        "colab": {
          "base_uri": "https://localhost:8080/",
          "height": 295
        },
        "id": "eFe-ON7AmebT",
        "outputId": "cc26e487-2e2b-4a5e-92f8-9acb4c552d4f"
      },
      "execution_count": null,
      "outputs": [
        {
          "output_type": "display_data",
          "data": {
            "text/plain": [
              "<Figure size 432x288 with 1 Axes>"
            ],
            "image/png": "[encoded data removed]"
          },
          "metadata": {
            "needs_background": "light"
          }
        }
      ]
    },
    {
      "cell_type": "code",
      "source": [
        "plt.clf()   # clear figure\n",
        "onelay64_acc_values = history4_dict['accuracy']\n",
        "onelay64_val_acc_values = history4_dict['val_accuracy']\n",
        "\n",
        "onelay64_epochs = range(1, len(onelay64_acc_values) + 1)\n",
        "\n",
        "plt.plot(onelay64_epochs, onelay64_acc_values, 'go', label='Training acc')\n",
        "plt.plot(onelay64_epochs, onelay64_val_acc_values, 'g', label='Validation acc')\n",
        "plt.title('Training and validation accuracy')\n",
        "plt.xlabel('Epochs')\n",
        "plt.ylabel('Loss')\n",
        "plt.legend()\n",
        "\n",
        "plt.show()"
      ],
      "metadata": {
        "colab": {
          "base_uri": "https://localhost:8080/",
          "height": 295
        },
        "id": "cFhbMdzzpfnG",
        "outputId": "56b8a766-d271-4390-fe8a-0c8c0ebf290f"
      },
      "execution_count": null,
      "outputs": [
        {
          "output_type": "display_data",
          "data": {
            "text/plain": [
              "<Figure size 432x288 with 1 Axes>"
            ],
            "image/png": "[encoded data removed]"
          },
          "metadata": {
            "needs_background": "light"
          }
        }
      ]
    },
    {
      "cell_type": "markdown",
      "source": [
        "**The results show that the best accuracy on the validation set appears around 5 epochs.**"
      ],
      "metadata": {
        "id": "s64BHwIRj-c0"
      }
    },
    {
      "cell_type": "markdown",
      "source": [
        "###**_Back Propagation- Retraining the model using 5 epochs._**"
      ],
      "metadata": {
        "id": "dOhQ1r_ckFf9"
      }
    },
    {
      "cell_type": "code",
      "source": [
        "model_t4 = models.Sequential()\n",
        "model_t4.add(layers.Dense(64, activation='tanh', input_shape=(10000,)))\n",
        "model_t4.add(layers.Dense(1, activation='sigmoid'))\n",
        "\n",
        "model_t4.compile(optimizer='rmsprop',\n",
        "              loss='binary_crossentropy',\n",
        "              metrics=['accuracy'])\n",
        "\n",
        "history_test = model_t4.fit(x_train, y_train, epochs=5, batch_size=512)"
      ],
      "metadata": {
        "colab": {
          "base_uri": "https://localhost:8080/"
        },
        "id": "UMxVof-Fs04H",
        "outputId": "889aec33-724e-4f2e-b48b-0fc3e235edda"
      },
      "execution_count": null,
      "outputs": [
        {
          "output_type": "stream",
          "name": "stdout",
          "text": [
            "Epoch 1/5\n",
            "49/49 [==============================] - 5s 81ms/step - loss: 0.4268 - accuracy: 0.8200\n",
            "Epoch 2/5\n",
            "49/49 [==============================] - 3s 53ms/step - loss: 0.2605 - accuracy: 0.9016\n",
            "Epoch 3/5\n",
            "49/49 [==============================] - 2s 44ms/step - loss: 0.2094 - accuracy: 0.9198\n",
            "Epoch 4/5\n",
            "49/49 [==============================] - 2s 44ms/step - loss: 0.1878 - accuracy: 0.9288\n",
            "Epoch 5/5\n",
            "49/49 [==============================] - 2s 43ms/step - loss: 0.1738 - accuracy: 0.9338\n"
          ]
        }
      ]
    },
    {
      "cell_type": "code",
      "source": [
        "results = model_t4.evaluate(x_test, y_test)"
      ],
      "metadata": {
        "colab": {
          "base_uri": "https://localhost:8080/"
        },
        "id": "-axNmCCwtik_",
        "outputId": "45b1760a-5bc0-4ab0-d6a0-7d765ee3a986"
      },
      "execution_count": null,
      "outputs": [
        {
          "output_type": "stream",
          "name": "stdout",
          "text": [
            "782/782 [==============================] - 4s 5ms/step - loss: 0.3026 - accuracy: 0.8798\n"
          ]
        }
      ]
    },
    {
      "cell_type": "markdown",
      "source": [
        "**_The accuracy of the model on the test set is 87.98%_**"
      ],
      "metadata": {
        "id": "TmV5sdaVkVNd"
      }
    },
    {
      "cell_type": "markdown",
      "source": [
        "## **Model 5: 2 layers, 64 Neurons, Activation- relu, Optimizer- adam, Loss- mse** "
      ],
      "metadata": {
        "id": "ewyCgfJluWhG"
      }
    },
    {
      "cell_type": "code",
      "source": [
        "model_5 = models.Sequential()\n",
        "model_5.add(layers.Dense(64, activation='relu', input_shape=(10000,)))\n",
        "model_5.add(layers.Dense(64, activation='relu'))\n",
        "model_5.add(layers.Dense(1, activation='sigmoid'))"
      ],
      "metadata": {
        "id": "woHmtAH8us3f"
      },
      "execution_count": null,
      "outputs": []
    },
    {
      "cell_type": "code",
      "source": [
        "model_5.compile(optimizer='adam',\n",
        "              loss='mse',\n",
        "              metrics=['accuracy'])"
      ],
      "metadata": {
        "id": "QTgKrF0Zu0Vx"
      },
      "execution_count": null,
      "outputs": []
    },
    {
      "cell_type": "code",
      "source": [
        "history_5 = model_5.fit(partial_x_train,\n",
        "                    partial_y_train,\n",
        "                    epochs=25,\n",
        "                    batch_size=512,\n",
        "                    validation_data=(x_val, y_val))"
      ],
      "metadata": {
        "colab": {
          "base_uri": "https://localhost:8080/"
        },
        "id": "fiS839CvvAwc",
        "outputId": "2f0c618b-a7e7-43fd-dc97-2249f63d76c1"
      },
      "execution_count": null,
      "outputs": [
        {
          "output_type": "stream",
          "name": "stdout",
          "text": [
            "Epoch 1/25\n",
            "30/30 [==============================] - 3s 81ms/step - loss: 0.1576 - accuracy: 0.7924 - val_loss: 0.0911 - val_accuracy: 0.8794\n",
            "Epoch 2/25\n",
            "30/30 [==============================] - 2s 66ms/step - loss: 0.0600 - accuracy: 0.9253 - val_loss: 0.0831 - val_accuracy: 0.8872\n",
            "Epoch 3/25\n",
            "30/30 [==============================] - 4s 120ms/step - loss: 0.0367 - accuracy: 0.9591 - val_loss: 0.0860 - val_accuracy: 0.8832\n",
            "Epoch 4/25\n",
            "30/30 [==============================] - 2s 59ms/step - loss: 0.0233 - accuracy: 0.9785 - val_loss: 0.0910 - val_accuracy: 0.8795\n",
            "Epoch 5/25\n",
            "30/30 [==============================] - 2s 67ms/step - loss: 0.0159 - accuracy: 0.9867 - val_loss: 0.0971 - val_accuracy: 0.8735\n",
            "Epoch 6/25\n",
            "30/30 [==============================] - 2s 58ms/step - loss: 0.0112 - accuracy: 0.9913 - val_loss: 0.1002 - val_accuracy: 0.8730\n",
            "Epoch 7/25\n",
            "30/30 [==============================] - 2s 58ms/step - loss: 0.0085 - accuracy: 0.9933 - val_loss: 0.1008 - val_accuracy: 0.8722\n",
            "Epoch 8/25\n",
            "30/30 [==============================] - 2s 58ms/step - loss: 0.0067 - accuracy: 0.9946 - val_loss: 0.1018 - val_accuracy: 0.8721\n",
            "Epoch 9/25\n",
            "30/30 [==============================] - 3s 111ms/step - loss: 0.0058 - accuracy: 0.9949 - val_loss: 0.1031 - val_accuracy: 0.8719\n",
            "Epoch 10/25\n",
            "30/30 [==============================] - 2s 57ms/step - loss: 0.0053 - accuracy: 0.9950 - val_loss: 0.1037 - val_accuracy: 0.8715\n",
            "Epoch 11/25\n",
            "30/30 [==============================] - 2s 58ms/step - loss: 0.0050 - accuracy: 0.9953 - val_loss: 0.1041 - val_accuracy: 0.8719\n",
            "Epoch 12/25\n",
            "30/30 [==============================] - 2s 60ms/step - loss: 0.0049 - accuracy: 0.9953 - val_loss: 0.1051 - val_accuracy: 0.8724\n",
            "Epoch 13/25\n",
            "30/30 [==============================] - 2s 77ms/step - loss: 0.0048 - accuracy: 0.9954 - val_loss: 0.1052 - val_accuracy: 0.8709\n",
            "Epoch 14/25\n",
            "30/30 [==============================] - 6s 212ms/step - loss: 0.0046 - accuracy: 0.9955 - val_loss: 0.1061 - val_accuracy: 0.8702\n",
            "Epoch 15/25\n",
            "30/30 [==============================] - 2s 58ms/step - loss: 0.0045 - accuracy: 0.9956 - val_loss: 0.1064 - val_accuracy: 0.8693\n",
            "Epoch 16/25\n",
            "30/30 [==============================] - 2s 65ms/step - loss: 0.0044 - accuracy: 0.9957 - val_loss: 0.1075 - val_accuracy: 0.8684\n",
            "Epoch 17/25\n",
            "30/30 [==============================] - 2s 59ms/step - loss: 0.0043 - accuracy: 0.9958 - val_loss: 0.1071 - val_accuracy: 0.8692\n",
            "Epoch 18/25\n",
            "30/30 [==============================] - 2s 57ms/step - loss: 0.0043 - accuracy: 0.9958 - val_loss: 0.1073 - val_accuracy: 0.8697\n",
            "Epoch 19/25\n",
            "30/30 [==============================] - 2s 57ms/step - loss: 0.0043 - accuracy: 0.9958 - val_loss: 0.1073 - val_accuracy: 0.8698\n",
            "Epoch 20/25\n",
            "30/30 [==============================] - 2s 73ms/step - loss: 0.0042 - accuracy: 0.9959 - val_loss: 0.1084 - val_accuracy: 0.8688\n",
            "Epoch 21/25\n",
            "30/30 [==============================] - 3s 85ms/step - loss: 0.0041 - accuracy: 0.9960 - val_loss: 0.1083 - val_accuracy: 0.8687\n",
            "Epoch 22/25\n",
            "30/30 [==============================] - 2s 66ms/step - loss: 0.0041 - accuracy: 0.9960 - val_loss: 0.1082 - val_accuracy: 0.8694\n",
            "Epoch 23/25\n",
            "30/30 [==============================] - 2s 59ms/step - loss: 0.0040 - accuracy: 0.9961 - val_loss: 0.1083 - val_accuracy: 0.8698\n",
            "Epoch 24/25\n",
            "30/30 [==============================] - 2s 59ms/step - loss: 0.0040 - accuracy: 0.9961 - val_loss: 0.1085 - val_accuracy: 0.8699\n",
            "Epoch 25/25\n",
            "30/30 [==============================] - 2s 59ms/step - loss: 0.0040 - accuracy: 0.9961 - val_loss: 0.1085 - val_accuracy: 0.8700\n"
          ]
        }
      ]
    },
    {
      "cell_type": "code",
      "source": [
        "model_5.summary()"
      ],
      "metadata": {
        "colab": {
          "base_uri": "https://localhost:8080/"
        },
        "id": "4GVkEE_O-6Bx",
        "outputId": "815bbfda-2d20-4299-ebad-f952132dfa7f"
      },
      "execution_count": null,
      "outputs": [
        {
          "output_type": "stream",
          "name": "stdout",
          "text": [
            "Model: \"sequential_2\"\n",
            "_________________________________________________________________\n",
            " Layer (type)                Output Shape              Param #   \n",
            "=================================================================\n",
            " dense_4 (Dense)             (None, 64)                640064    \n",
            "                                                                 \n",
            " dense_5 (Dense)             (None, 64)                4160      \n",
            "                                                                 \n",
            " dense_6 (Dense)             (None, 1)                 65        \n",
            "                                                                 \n",
            "=================================================================\n",
            "Total params: 644,289\n",
            "Trainable params: 644,289\n",
            "Non-trainable params: 0\n",
            "_________________________________________________________________\n"
          ]
        }
      ]
    },
    {
      "cell_type": "code",
      "source": [
        "history_dict_5 = history_5.history\n",
        "history_dict_5.keys()"
      ],
      "metadata": {
        "colab": {
          "base_uri": "https://localhost:8080/"
        },
        "id": "FGfpueygvVvv",
        "outputId": "490d7518-3147-4fd7-e18e-2e2f9cae4673"
      },
      "execution_count": null,
      "outputs": [
        {
          "output_type": "execute_result",
          "data": {
            "text/plain": [
              "dict_keys(['loss', 'accuracy', 'val_loss', 'val_accuracy'])"
            ]
          },
          "metadata": {},
          "execution_count": 20
        }
      ]
    },
    {
      "cell_type": "code",
      "source": [
        "import matplotlib.pyplot as plt\n",
        "\n",
        "\n",
        "twoly64_loss = history_5.history['loss']\n",
        "twoly64_val_loss = history_5.history['val_loss']\n",
        "\n",
        "twoly64_epochs = range(1, len(twoly64_loss) + 1)\n",
        "\n",
        "# \"bo\" is for \"blue dot\"\n",
        "plt.plot(twoly64_epochs, twoly64_loss, 'bo', label='Training loss')\n",
        "# b is for \"solid blue line\"\n",
        "plt.plot(twoly64_epochs, twoly64_val_loss, 'b', label='Validation loss')\n",
        "plt.title('Training and validation loss')\n",
        "plt.xlabel('Epochs')\n",
        "plt.ylabel('Loss')\n",
        "plt.legend()\n",
        "\n",
        "plt.show()"
      ],
      "metadata": {
        "colab": {
          "base_uri": "https://localhost:8080/",
          "height": 295
        },
        "id": "i65Oad5Gvd46",
        "outputId": "2ba13319-312e-47ef-b2df-794710a55a40"
      },
      "execution_count": null,
      "outputs": [
        {
          "output_type": "display_data",
          "data": {
            "text/plain": [
              "<Figure size 432x288 with 1 Axes>"
            ],
            "image/png": "[encoded data removed]"
          },
          "metadata": {
            "needs_background": "light"
          }
        }
      ]
    },
    {
      "cell_type": "code",
      "source": [
        "plt.clf()   # clear figure\n",
        "twoly64_acc_values = history_5.history['accuracy']\n",
        "twoly64_val_acc_values = history_5.history['val_accuracy']\n",
        "\n",
        "twoly64_epochs = range(1, len(twoly64_acc_values) + 1)\n",
        "\n",
        "plt.plot(twoly64_epochs, twoly64_acc_values, 'bo', label='Training acc')\n",
        "plt.plot(twoly64_epochs, twoly64_val_acc_values, 'b', label='Validation acc')\n",
        "plt.title('Training and validation accuracy')\n",
        "plt.xlabel('Epochs')\n",
        "plt.ylabel('Loss')\n",
        "plt.legend()\n",
        "\n",
        "plt.show()"
      ],
      "metadata": {
        "colab": {
          "base_uri": "https://localhost:8080/",
          "height": 295
        },
        "id": "Kn8H4fG8vntw",
        "outputId": "28a7fcd8-2b28-4df7-bdab-b4a6cf7c859b"
      },
      "execution_count": null,
      "outputs": [
        {
          "output_type": "display_data",
          "data": {
            "text/plain": [
              "<Figure size 432x288 with 1 Axes>"
            ],
            "image/png": "[encoded data removed]"
          },
          "metadata": {
            "needs_background": "light"
          }
        }
      ]
    },
    {
      "cell_type": "markdown",
      "source": [
        "**The results show that the best accuracy on the validation set appears around 2 epochs.**"
      ],
      "metadata": {
        "id": "vvJaz8oSk1cB"
      }
    },
    {
      "cell_type": "markdown",
      "source": [
        "###**_Back Propagation- Retraining the model using 2 epochs._**"
      ],
      "metadata": {
        "id": "HKx4b81ak8eu"
      }
    },
    {
      "cell_type": "code",
      "source": [
        "model_t5 = models.Sequential()\n",
        "model_t5.add(layers.Dense(64, activation='relu', input_shape=(10000,)))\n",
        "model_t5.add(layers.Dense(64, activation='relu'))\n",
        "model_t5.add(layers.Dense(1, activation='sigmoid'))\n",
        "\n",
        "model_t5.compile(optimizer='adam',\n",
        "              loss='mse',\n",
        "              metrics=['accuracy'])\n",
        "\n",
        "history_test = model_t5.fit(x_train, y_train, epochs=2, batch_size=512)\n",
        "results = model_t5.evaluate(x_test, y_test)"
      ],
      "metadata": {
        "colab": {
          "base_uri": "https://localhost:8080/"
        },
        "id": "FZFtuNsAv0G_",
        "outputId": "a40c892d-52d3-433b-d035-1f43cb180776"
      },
      "execution_count": null,
      "outputs": [
        {
          "output_type": "stream",
          "name": "stdout",
          "text": [
            "Epoch 1/2\n",
            "49/49 [==============================] - 3s 46ms/step - loss: 0.1245 - accuracy: 0.8374\n",
            "Epoch 2/2\n",
            "49/49 [==============================] - 2s 51ms/step - loss: 0.0547 - accuracy: 0.9308\n",
            "782/782 [==============================] - 2s 3ms/step - loss: 0.0901 - accuracy: 0.8770\n"
          ]
        }
      ]
    },
    {
      "cell_type": "markdown",
      "source": [
        "**_The accuracy of the model on the test set is 87.70%_**"
      ],
      "metadata": {
        "id": "RCXM0pnUlFVm"
      }
    },
    {
      "cell_type": "markdown",
      "source": [
        "## **Model 6: 2 layers, 16 Neurons, Activation- tanh, Optimizer- rmsprop, Loss- mse**\n",
        "\n"
      ],
      "metadata": {
        "id": "udulM5oLwYK4"
      }
    },
    {
      "cell_type": "code",
      "source": [
        "model_6 = models.Sequential()\n",
        "model_6.add(layers.Dense(16, activation='tanh', input_shape=(10000,)))\n",
        "model_6.add(layers.Dense(16, activation='tanh'))\n",
        "model_6.add(layers.Dense(1, activation='sigmoid'))"
      ],
      "metadata": {
        "id": "dud6rK7DwywY"
      },
      "execution_count": null,
      "outputs": []
    },
    {
      "cell_type": "code",
      "source": [
        "model_6.compile(optimizer='rmsprop',\n",
        "              loss='mse',\n",
        "              metrics=['accuracy'])"
      ],
      "metadata": {
        "id": "g8Ez8tX7w7tL"
      },
      "execution_count": null,
      "outputs": []
    },
    {
      "cell_type": "code",
      "source": [
        "history_6 = model_6.fit(partial_x_train,\n",
        "                    partial_y_train,\n",
        "                    epochs=25,\n",
        "                    batch_size=512,\n",
        "                    validation_data=(x_val, y_val))"
      ],
      "metadata": {
        "colab": {
          "base_uri": "https://localhost:8080/"
        },
        "id": "RUyGIEuuxDXQ",
        "outputId": "ab0dbd57-ca98-4533-cc3b-06c30b1a0073"
      },
      "execution_count": null,
      "outputs": [
        {
          "output_type": "stream",
          "name": "stdout",
          "text": [
            "Epoch 1/25\n",
            "30/30 [==============================] - 2s 58ms/step - loss: 0.1619 - accuracy: 0.7937 - val_loss: 0.1188 - val_accuracy: 0.8583\n",
            "Epoch 2/25\n",
            "30/30 [==============================] - 2s 53ms/step - loss: 0.0914 - accuracy: 0.8946 - val_loss: 0.0934 - val_accuracy: 0.8795\n",
            "Epoch 3/25\n",
            "30/30 [==============================] - 2s 51ms/step - loss: 0.0678 - accuracy: 0.9189 - val_loss: 0.0955 - val_accuracy: 0.8689\n",
            "Epoch 4/25\n",
            "30/30 [==============================] - 1s 35ms/step - loss: 0.0545 - accuracy: 0.9346 - val_loss: 0.0899 - val_accuracy: 0.8765\n",
            "Epoch 5/25\n",
            "30/30 [==============================] - 1s 37ms/step - loss: 0.0444 - accuracy: 0.9485 - val_loss: 0.1059 - val_accuracy: 0.8558\n",
            "Epoch 6/25\n",
            "30/30 [==============================] - 1s 32ms/step - loss: 0.0385 - accuracy: 0.9551 - val_loss: 0.0977 - val_accuracy: 0.8682\n",
            "Epoch 7/25\n",
            "30/30 [==============================] - 1s 33ms/step - loss: 0.0313 - accuracy: 0.9655 - val_loss: 0.0939 - val_accuracy: 0.8780\n",
            "Epoch 8/25\n",
            "30/30 [==============================] - 1s 34ms/step - loss: 0.0284 - accuracy: 0.9685 - val_loss: 0.0920 - val_accuracy: 0.8788\n",
            "Epoch 9/25\n",
            "30/30 [==============================] - 1s 34ms/step - loss: 0.0231 - accuracy: 0.9753 - val_loss: 0.0984 - val_accuracy: 0.8703\n",
            "Epoch 10/25\n",
            "30/30 [==============================] - 1s 36ms/step - loss: 0.0205 - accuracy: 0.9775 - val_loss: 0.0967 - val_accuracy: 0.8780\n",
            "Epoch 11/25\n",
            "30/30 [==============================] - 1s 33ms/step - loss: 0.0179 - accuracy: 0.9814 - val_loss: 0.0991 - val_accuracy: 0.8760\n",
            "Epoch 12/25\n",
            "30/30 [==============================] - 1s 37ms/step - loss: 0.0176 - accuracy: 0.9813 - val_loss: 0.1026 - val_accuracy: 0.8718\n",
            "Epoch 13/25\n",
            "30/30 [==============================] - 1s 37ms/step - loss: 0.0150 - accuracy: 0.9841 - val_loss: 0.1008 - val_accuracy: 0.8770\n",
            "Epoch 14/25\n",
            "30/30 [==============================] - 2s 60ms/step - loss: 0.0153 - accuracy: 0.9829 - val_loss: 0.1066 - val_accuracy: 0.8698\n",
            "Epoch 15/25\n",
            "30/30 [==============================] - 1s 40ms/step - loss: 0.0098 - accuracy: 0.9913 - val_loss: 0.1224 - val_accuracy: 0.8577\n",
            "Epoch 16/25\n",
            "30/30 [==============================] - 1s 35ms/step - loss: 0.0107 - accuracy: 0.9891 - val_loss: 0.1116 - val_accuracy: 0.8671\n",
            "Epoch 17/25\n",
            "30/30 [==============================] - 1s 37ms/step - loss: 0.0127 - accuracy: 0.9861 - val_loss: 0.1061 - val_accuracy: 0.8741\n",
            "Epoch 18/25\n",
            "30/30 [==============================] - 1s 34ms/step - loss: 0.0118 - accuracy: 0.9880 - val_loss: 0.1070 - val_accuracy: 0.8723\n",
            "Epoch 19/25\n",
            "30/30 [==============================] - 1s 33ms/step - loss: 0.0073 - accuracy: 0.9933 - val_loss: 0.1091 - val_accuracy: 0.8710\n",
            "Epoch 20/25\n",
            "30/30 [==============================] - 1s 34ms/step - loss: 0.0124 - accuracy: 0.9861 - val_loss: 0.1089 - val_accuracy: 0.8721\n",
            "Epoch 21/25\n",
            "30/30 [==============================] - 1s 35ms/step - loss: 0.0068 - accuracy: 0.9936 - val_loss: 0.1089 - val_accuracy: 0.8711\n",
            "Epoch 22/25\n",
            "30/30 [==============================] - 1s 34ms/step - loss: 0.0119 - accuracy: 0.9871 - val_loss: 0.1099 - val_accuracy: 0.8711\n",
            "Epoch 23/25\n",
            "30/30 [==============================] - 1s 35ms/step - loss: 0.0067 - accuracy: 0.9936 - val_loss: 0.1105 - val_accuracy: 0.8700\n",
            "Epoch 24/25\n",
            "30/30 [==============================] - 1s 36ms/step - loss: 0.0128 - accuracy: 0.9854 - val_loss: 0.1096 - val_accuracy: 0.8718\n",
            "Epoch 25/25\n",
            "30/30 [==============================] - 1s 49ms/step - loss: 0.0066 - accuracy: 0.9937 - val_loss: 0.1119 - val_accuracy: 0.8711\n"
          ]
        }
      ]
    },
    {
      "cell_type": "code",
      "source": [
        "model_6.summary()"
      ],
      "metadata": {
        "colab": {
          "base_uri": "https://localhost:8080/"
        },
        "id": "5PlsYrDi_6Uv",
        "outputId": "a642c7de-99bd-47fb-a829-9666bd0ca56f"
      },
      "execution_count": null,
      "outputs": [
        {
          "output_type": "stream",
          "name": "stdout",
          "text": [
            "Model: \"sequential_4\"\n",
            "_________________________________________________________________\n",
            " Layer (type)                Output Shape              Param #   \n",
            "=================================================================\n",
            " dense_10 (Dense)            (None, 16)                160016    \n",
            "                                                                 \n",
            " dense_11 (Dense)            (None, 16)                272       \n",
            "                                                                 \n",
            " dense_12 (Dense)            (None, 1)                 17        \n",
            "                                                                 \n",
            "=================================================================\n",
            "Total params: 160,305\n",
            "Trainable params: 160,305\n",
            "Non-trainable params: 0\n",
            "_________________________________________________________________\n"
          ]
        }
      ]
    },
    {
      "cell_type": "code",
      "source": [
        "history_dict_6 = history_6.history\n",
        "history_dict_6.keys()"
      ],
      "metadata": {
        "colab": {
          "base_uri": "https://localhost:8080/"
        },
        "id": "Wojhpc8_zLlY",
        "outputId": "6aad0bf1-1549-47ba-8759-bd956a7df4e5"
      },
      "execution_count": null,
      "outputs": [
        {
          "output_type": "execute_result",
          "data": {
            "text/plain": [
              "dict_keys(['loss', 'accuracy', 'val_loss', 'val_accuracy'])"
            ]
          },
          "metadata": {},
          "execution_count": 29
        }
      ]
    },
    {
      "cell_type": "code",
      "source": [
        "import matplotlib.pyplot as plt\n",
        "\n",
        "history6_dict = history_6.history\n",
        "twolymse_loss = history6_dict['loss']\n",
        "twolymse_val_loss = history6_dict['val_loss']\n",
        "\n",
        "twolymse_epochs = range(1, len(twolymse_loss) + 1)\n",
        "\n",
        "# \"go\" is for \"green dot\"\n",
        "plt.plot(twolymse_epochs, twolymse_loss, 'go', label='Training loss')\n",
        "# g is for \"solid green line\"\n",
        "plt.plot(twolymse_epochs, twolymse_val_loss, 'g', label='Validation loss')\n",
        "plt.title('Training and validation loss')\n",
        "plt.xlabel('Epochs')\n",
        "plt.ylabel('Loss')\n",
        "plt.legend()\n",
        "\n",
        "plt.show()"
      ],
      "metadata": {
        "colab": {
          "base_uri": "https://localhost:8080/",
          "height": 295
        },
        "id": "F1W1ymz4zOno",
        "outputId": "6f47bf98-9944-43c6-f4e1-53cbaf34e9e6"
      },
      "execution_count": null,
      "outputs": [
        {
          "output_type": "display_data",
          "data": {
            "text/plain": [
              "<Figure size 432x288 with 1 Axes>"
            ],
            "image/png": "[encoded data removed]"
          },
          "metadata": {
            "needs_background": "light"
          }
        }
      ]
    },
    {
      "cell_type": "code",
      "source": [
        "plt.clf()   # clear figure\n",
        "twolymse_acc_values = history6_dict['accuracy']\n",
        "twolymse_val_acc_values = history6_dict['val_accuracy']\n",
        "\n",
        "twolymse_epochs = range(1, len(twolymse_acc_values) + 1)\n",
        "\n",
        "plt.plot(twolymse_epochs, twolymse_acc_values, 'go', label='Training acc')\n",
        "plt.plot(twolymse_epochs, twolymse_val_acc_values, 'g', label='Validation acc')\n",
        "plt.title('Training and validation accuracy')\n",
        "plt.xlabel('Epochs')\n",
        "plt.ylabel('Loss')\n",
        "plt.legend()\n",
        "\n",
        "plt.show"
      ],
      "metadata": {
        "colab": {
          "base_uri": "https://localhost:8080/",
          "height": 313
        },
        "id": "W0LMqUXP0OsD",
        "outputId": "375afe22-7971-447b-82d8-62d6ab02d82e"
      },
      "execution_count": null,
      "outputs": [
        {
          "output_type": "execute_result",
          "data": {
            "text/plain": [
              "<function matplotlib.pyplot.show(*args, **kw)>"
            ]
          },
          "metadata": {},
          "execution_count": 31
        },
        {
          "output_type": "display_data",
          "data": {
            "text/plain": [
              "<Figure size 432x288 with 1 Axes>"
            ],
            "image/png": "[encoded data removed]"
          },
          "metadata": {
            "needs_background": "light"
          }
        }
      ]
    },
    {
      "cell_type": "markdown",
      "source": [
        "**The results show that the best accuracy on the validation set appears around 4 epochs.**"
      ],
      "metadata": {
        "id": "CcImXR52liHG"
      }
    },
    {
      "cell_type": "markdown",
      "source": [
        "###**_Back Propagation- Retraining the model using 4 epochs._**"
      ],
      "metadata": {
        "id": "E9PI-QpGlq4p"
      }
    },
    {
      "cell_type": "code",
      "source": [
        "model_t6 = models.Sequential()\n",
        "model_t6.add(layers.Dense(16, activation='tanh', input_shape=(10000,)))\n",
        "model_t6.add(layers.Dense(16, activation='tanh'))\n",
        "model_t6.add(layers.Dense(1, activation='sigmoid'))\n",
        "\n",
        "model_t6.compile(optimizer='rmsprop',\n",
        "              loss='mse',\n",
        "              metrics=['accuracy'])\n",
        "\n",
        "history_test = model_t6.fit(x_train, y_train, epochs=4, batch_size=512)\n",
        "results = model_t6.evaluate(x_test, y_test)"
      ],
      "metadata": {
        "colab": {
          "base_uri": "https://localhost:8080/"
        },
        "id": "hpkeHhkE0YXQ",
        "outputId": "bf3563ba-01a8-4a5b-c28e-51a363fb06f0"
      },
      "execution_count": null,
      "outputs": [
        {
          "output_type": "stream",
          "name": "stdout",
          "text": [
            "Epoch 1/4\n",
            "49/49 [==============================] - 2s 29ms/step - loss: 0.1429 - accuracy: 0.8195\n",
            "Epoch 2/4\n",
            "49/49 [==============================] - 1s 27ms/step - loss: 0.0799 - accuracy: 0.8997\n",
            "Epoch 3/4\n",
            "49/49 [==============================] - 1s 27ms/step - loss: 0.0609 - accuracy: 0.9223\n",
            "Epoch 4/4\n",
            "49/49 [==============================] - 1s 27ms/step - loss: 0.0512 - accuracy: 0.9354\n",
            "782/782 [==============================] - 2s 2ms/step - loss: 0.0873 - accuracy: 0.8826\n"
          ]
        }
      ]
    },
    {
      "cell_type": "code",
      "source": [
        "results"
      ],
      "metadata": {
        "colab": {
          "base_uri": "https://localhost:8080/"
        },
        "id": "JQHVwSJh0sul",
        "outputId": "4e5165b9-42bf-4997-de61-59fb7a1398a2"
      },
      "execution_count": null,
      "outputs": [
        {
          "output_type": "execute_result",
          "data": {
            "text/plain": [
              "[0.08726087212562561, 0.8826000094413757]"
            ]
          },
          "metadata": {},
          "execution_count": 33
        }
      ]
    },
    {
      "cell_type": "markdown",
      "source": [
        "**_The accuracy of the model on the test set is 88.26%_**"
      ],
      "metadata": {
        "id": "Z5Wd8jpEl0vx"
      }
    },
    {
      "cell_type": "markdown",
      "source": [
        "## **Model 7: 3 layers, 64 Neurons, Activation- relu, Optimizer- rmsprop, Loss- binary_crossentropy, Regularizers- L2 (0.001)**"
      ],
      "metadata": {
        "id": "BaIKFO2GmEfO"
      }
    },
    {
      "cell_type": "code",
      "source": [
        "from keras import regularizers\n",
        "model_7 = models.Sequential()\n",
        "model_7.add(layers.Dense(64,kernel_regularizer=regularizers.l2(0.001), activation='relu', input_shape=(10000,)))\n",
        "model_7.add(layers.Dense(64,kernel_regularizer=regularizers.l2(0.001), activation='relu'))\n",
        "model_7.add(layers.Dense(64,kernel_regularizer=regularizers.l2(0.001), activation='relu'))\n",
        "model_7.add(layers.Dense(1, activation='sigmoid'))"
      ],
      "metadata": {
        "id": "awwVO11zO31R"
      },
      "execution_count": null,
      "outputs": []
    },
    {
      "cell_type": "code",
      "source": [
        "model_7.compile(optimizer='rmsprop',\n",
        "              loss='binary_crossentropy',\n",
        "              metrics=['accuracy'])"
      ],
      "metadata": {
        "id": "nRfgwyBTPD7s"
      },
      "execution_count": null,
      "outputs": []
    },
    {
      "cell_type": "code",
      "source": [
        "history_7 = model_7.fit(partial_x_train,\n",
        "                    partial_y_train,\n",
        "                    epochs=25,\n",
        "                    batch_size=512,\n",
        "                    validation_data=(x_val, y_val))"
      ],
      "metadata": {
        "colab": {
          "base_uri": "https://localhost:8080/"
        },
        "id": "ukpn8pErPLdG",
        "outputId": "18c14ca5-c8bc-49b9-bc39-0c66a6e3e88e"
      },
      "execution_count": null,
      "outputs": [
        {
          "output_type": "stream",
          "name": "stdout",
          "text": [
            "Epoch 1/25\n",
            "30/30 [==============================] - 3s 85ms/step - loss: 0.7602 - accuracy: 0.7295 - val_loss: 0.6344 - val_accuracy: 0.8121\n",
            "Epoch 2/25\n",
            "30/30 [==============================] - 2s 60ms/step - loss: 0.4947 - accuracy: 0.8824 - val_loss: 0.4660 - val_accuracy: 0.8845\n",
            "Epoch 3/25\n",
            "30/30 [==============================] - 3s 118ms/step - loss: 0.4116 - accuracy: 0.9067 - val_loss: 0.4922 - val_accuracy: 0.8634\n",
            "Epoch 4/25\n",
            "30/30 [==============================] - 2s 58ms/step - loss: 0.3498 - accuracy: 0.9249 - val_loss: 0.5183 - val_accuracy: 0.8543\n",
            "Epoch 5/25\n",
            "30/30 [==============================] - 2s 67ms/step - loss: 0.3180 - accuracy: 0.9317 - val_loss: 0.4331 - val_accuracy: 0.8849\n",
            "Epoch 6/25\n",
            "30/30 [==============================] - 2s 60ms/step - loss: 0.2884 - accuracy: 0.9422 - val_loss: 0.4208 - val_accuracy: 0.8810\n",
            "Epoch 7/25\n",
            "30/30 [==============================] - 2s 67ms/step - loss: 0.2557 - accuracy: 0.9525 - val_loss: 0.4317 - val_accuracy: 0.8829\n",
            "Epoch 8/25\n",
            "30/30 [==============================] - 2s 69ms/step - loss: 0.2302 - accuracy: 0.9647 - val_loss: 0.4638 - val_accuracy: 0.8742\n",
            "Epoch 9/25\n",
            "30/30 [==============================] - 4s 119ms/step - loss: 0.2424 - accuracy: 0.9555 - val_loss: 0.4425 - val_accuracy: 0.8810\n",
            "Epoch 10/25\n",
            "30/30 [==============================] - 2s 57ms/step - loss: 0.2194 - accuracy: 0.9684 - val_loss: 0.4572 - val_accuracy: 0.8781\n",
            "Epoch 11/25\n",
            "30/30 [==============================] - 2s 67ms/step - loss: 0.1999 - accuracy: 0.9747 - val_loss: 0.4777 - val_accuracy: 0.8796\n",
            "Epoch 12/25\n",
            "30/30 [==============================] - 2s 59ms/step - loss: 0.1928 - accuracy: 0.9741 - val_loss: 0.5076 - val_accuracy: 0.8745\n",
            "Epoch 13/25\n",
            "30/30 [==============================] - 2s 58ms/step - loss: 0.1860 - accuracy: 0.9788 - val_loss: 0.5396 - val_accuracy: 0.8601\n",
            "Epoch 14/25\n",
            "30/30 [==============================] - 6s 202ms/step - loss: 0.1879 - accuracy: 0.9754 - val_loss: 0.5864 - val_accuracy: 0.8581\n",
            "Epoch 15/25\n",
            "30/30 [==============================] - 2s 74ms/step - loss: 0.1840 - accuracy: 0.9783 - val_loss: 0.5015 - val_accuracy: 0.8746\n",
            "Epoch 16/25\n",
            "30/30 [==============================] - 2s 62ms/step - loss: 0.1816 - accuracy: 0.9783 - val_loss: 0.4955 - val_accuracy: 0.8756\n",
            "Epoch 17/25\n",
            "30/30 [==============================] - 2s 60ms/step - loss: 0.1786 - accuracy: 0.9791 - val_loss: 0.4775 - val_accuracy: 0.8738\n",
            "Epoch 18/25\n",
            "30/30 [==============================] - 2s 61ms/step - loss: 0.1725 - accuracy: 0.9805 - val_loss: 0.4746 - val_accuracy: 0.8730\n",
            "Epoch 19/25\n",
            "30/30 [==============================] - 2s 68ms/step - loss: 0.1738 - accuracy: 0.9774 - val_loss: 0.4631 - val_accuracy: 0.8758\n",
            "Epoch 20/25\n",
            "30/30 [==============================] - 3s 92ms/step - loss: 0.1697 - accuracy: 0.9819 - val_loss: 0.4599 - val_accuracy: 0.8763\n",
            "Epoch 21/25\n",
            "30/30 [==============================] - 2s 81ms/step - loss: 0.1654 - accuracy: 0.9786 - val_loss: 0.4518 - val_accuracy: 0.8754\n",
            "Epoch 22/25\n",
            "30/30 [==============================] - 2s 67ms/step - loss: 0.1667 - accuracy: 0.9784 - val_loss: 0.4553 - val_accuracy: 0.8761\n",
            "Epoch 23/25\n",
            "30/30 [==============================] - 2s 65ms/step - loss: 0.1578 - accuracy: 0.9795 - val_loss: 0.4482 - val_accuracy: 0.8757\n",
            "Epoch 24/25\n",
            "30/30 [==============================] - 2s 82ms/step - loss: 0.1495 - accuracy: 0.9824 - val_loss: 0.4485 - val_accuracy: 0.8760\n",
            "Epoch 25/25\n",
            "30/30 [==============================] - 2s 70ms/step - loss: 0.1571 - accuracy: 0.9815 - val_loss: 0.4412 - val_accuracy: 0.8761\n"
          ]
        }
      ]
    },
    {
      "cell_type": "code",
      "source": [
        "model_7.summary()"
      ],
      "metadata": {
        "colab": {
          "base_uri": "https://localhost:8080/"
        },
        "id": "kKZBsXl1QXx5",
        "outputId": "c54c3b34-987b-4983-81fa-4efe43f54ed3"
      },
      "execution_count": null,
      "outputs": [
        {
          "output_type": "stream",
          "name": "stdout",
          "text": [
            "Model: \"sequential_3\"\n",
            "_________________________________________________________________\n",
            " Layer (type)                Output Shape              Param #   \n",
            "=================================================================\n",
            " dense_6 (Dense)             (None, 64)                640064    \n",
            "                                                                 \n",
            " dense_7 (Dense)             (None, 64)                4160      \n",
            "                                                                 \n",
            " dense_8 (Dense)             (None, 64)                4160      \n",
            "                                                                 \n",
            " dense_9 (Dense)             (None, 1)                 65        \n",
            "                                                                 \n",
            "=================================================================\n",
            "Total params: 648,449\n",
            "Trainable params: 648,449\n",
            "Non-trainable params: 0\n",
            "_________________________________________________________________\n"
          ]
        }
      ]
    },
    {
      "cell_type": "code",
      "source": [
        "history_dict_7 = history_7.history\n",
        "history_dict_7.keys()"
      ],
      "metadata": {
        "colab": {
          "base_uri": "https://localhost:8080/"
        },
        "id": "_yCE_3XpQaU8",
        "outputId": "c324997e-c780-4897-d8d3-1615d4c7b5fa"
      },
      "execution_count": null,
      "outputs": [
        {
          "output_type": "execute_result",
          "data": {
            "text/plain": [
              "dict_keys(['loss', 'accuracy', 'val_loss', 'val_accuracy'])"
            ]
          },
          "metadata": {},
          "execution_count": 17
        }
      ]
    },
    {
      "cell_type": "code",
      "source": [
        "import matplotlib.pyplot as plt\n",
        "\n",
        "threely64_loss = history_7.history['loss']\n",
        "threely64_val_loss = history_7.history['val_loss']\n",
        "\n",
        "threely64_epochs = range(1, len(threely64_loss) + 1)\n",
        "\n",
        "# \"go\" is for \"green dot\"\n",
        "plt.plot(threely64_epochs, threely64_loss, 'ro', label='Training loss')\n",
        "# g is for \"solid green line\"\n",
        "plt.plot(threely64_epochs, threely64_val_loss, 'r', label='Validation loss')\n",
        "plt.title('Training and validation loss')\n",
        "plt.xlabel('Epochs')\n",
        "plt.ylabel('Loss')\n",
        "plt.legend()\n",
        "\n",
        "plt.show()"
      ],
      "metadata": {
        "colab": {
          "base_uri": "https://localhost:8080/",
          "height": 295
        },
        "id": "yg2q0x8WQhu1",
        "outputId": "073b1dfd-0d6c-4ded-8056-3ef3b55f171c"
      },
      "execution_count": null,
      "outputs": [
        {
          "output_type": "display_data",
          "data": {
            "text/plain": [
              "<Figure size 432x288 with 1 Axes>"
            ],
            "image/png": "[encoded data removed]"
          },
          "metadata": {
            "needs_background": "light"
          }
        }
      ]
    },
    {
      "cell_type": "code",
      "source": [
        "plt.clf()   # clear figure\n",
        "threely64_acc_values = history_7.history['accuracy']\n",
        "threely64_val_acc_values = history_7.history['val_accuracy']\n",
        "\n",
        "threely64_epochs = range(1, len(threely64_acc_values) + 1)\n",
        "plt.plot(threely64_epochs, threely64_acc_values, 'ro', label='Training acc')\n",
        "plt.plot(threely64_epochs, threely64_val_acc_values, 'r', label='Validation acc')\n",
        "plt.title('Training and validation accuracy')\n",
        "plt.xlabel('Epochs')\n",
        "plt.ylabel('Loss')\n",
        "plt.legend()\n",
        "\n",
        "plt.show"
      ],
      "metadata": {
        "colab": {
          "base_uri": "https://localhost:8080/",
          "height": 313
        },
        "id": "JhcxS9_AQp3V",
        "outputId": "3a1be235-41ea-4992-dbc8-2b5913434099"
      },
      "execution_count": null,
      "outputs": [
        {
          "output_type": "execute_result",
          "data": {
            "text/plain": [
              "<function matplotlib.pyplot.show(*args, **kw)>"
            ]
          },
          "metadata": {},
          "execution_count": 19
        },
        {
          "output_type": "display_data",
          "data": {
            "text/plain": [
              "<Figure size 432x288 with 1 Axes>"
            ],
            "image/png": "[encoded data removed]"
          },
          "metadata": {
            "needs_background": "light"
          }
        }
      ]
    },
    {
      "cell_type": "markdown",
      "source": [
        "**The results show that the best accuracy on the validation set appears around 2 epochs.**"
      ],
      "metadata": {
        "id": "s0uErvIpmd3J"
      }
    },
    {
      "cell_type": "markdown",
      "source": [
        "###**_Back Propagation- Retraining the model using 2 epochs._**"
      ],
      "metadata": {
        "id": "-JOCFFFRmmE7"
      }
    },
    {
      "cell_type": "code",
      "source": [
        "model_t7 = models.Sequential()\n",
        "model_t7.add(layers.Dense(64,kernel_regularizer=regularizers.l2(0.001), activation='relu', input_shape=(10000,)))\n",
        "model_t7.add(layers.Dense(64,kernel_regularizer=regularizers.l2(0.001),  activation='relu'))\n",
        "model_t7.add(layers.Dense(64,kernel_regularizer=regularizers.l2(0.001),  activation='relu'))\n",
        "model_t7.add(layers.Dense(1, activation='sigmoid'))\n",
        "\n",
        "model_t7.compile(optimizer='rmsprop',\n",
        "              loss='binary_crossentropy',\n",
        "              metrics=['accuracy'])\n",
        "\n",
        "history_test = model_t7.fit(x_train, y_train, epochs=5, batch_size=512)\n",
        "results = model_t7.evaluate(x_test, y_test)"
      ],
      "metadata": {
        "colab": {
          "base_uri": "https://localhost:8080/"
        },
        "id": "Qxai6uvfQwzp",
        "outputId": "c74b9086-da70-4027-cec5-691f1c522a8f"
      },
      "execution_count": null,
      "outputs": [
        {
          "output_type": "stream",
          "name": "stdout",
          "text": [
            "Epoch 1/5\n",
            "49/49 [==============================] - 5s 77ms/step - loss: 0.6745 - accuracy: 0.7852\n",
            "Epoch 2/5\n",
            "49/49 [==============================] - 3s 68ms/step - loss: 0.4426 - accuracy: 0.8914\n",
            "Epoch 3/5\n",
            "49/49 [==============================] - 2s 48ms/step - loss: 0.3635 - accuracy: 0.9135\n",
            "Epoch 4/5\n",
            "49/49 [==============================] - 2s 47ms/step - loss: 0.3196 - accuracy: 0.9250\n",
            "Epoch 5/5\n",
            "49/49 [==============================] - 2s 44ms/step - loss: 0.2843 - accuracy: 0.9341\n",
            "782/782 [==============================] - 4s 5ms/step - loss: 0.4345 - accuracy: 0.8758\n"
          ]
        }
      ]
    },
    {
      "cell_type": "code",
      "source": [
        "results"
      ],
      "metadata": {
        "colab": {
          "base_uri": "https://localhost:8080/"
        },
        "id": "AX3CM8t5REuN",
        "outputId": "7a20d045-269e-4aef-fa88-b5e3022925a7"
      },
      "execution_count": null,
      "outputs": [
        {
          "output_type": "execute_result",
          "data": {
            "text/plain": [
              "[0.4345399737358093, 0.8758000135421753]"
            ]
          },
          "metadata": {},
          "execution_count": 21
        }
      ]
    },
    {
      "cell_type": "markdown",
      "source": [
        "**_The accuracy of the model on the test set is 87.58%._**"
      ],
      "metadata": {
        "id": "t4tsNm6amvcz"
      }
    },
    {
      "cell_type": "markdown",
      "source": [
        "## **Model 8: 2 layers, 16 Neurons, Activation- relu, Optimizer- rmsprop, Loss- binary_crossentropy, Regularizers- L2 (0.001)** "
      ],
      "metadata": {
        "id": "9TdPY4QiRceO"
      }
    },
    {
      "cell_type": "code",
      "source": [
        "from keras import regularizers\n",
        "\n",
        "model_8 = models.Sequential()\n",
        "model_8.add(layers.Dense(16, kernel_regularizer=regularizers.l2(0.001), \n",
        "                           activation='relu', input_shape=(10000,)))\n",
        "model_8.add(layers.Dense(16, kernel_regularizer=regularizers.l2(0.001), \n",
        "                           activation='relu'))\n",
        "model_8.add(layers.Dense(1, activation='sigmoid'))"
      ],
      "metadata": {
        "id": "JqunnyHBRomg"
      },
      "execution_count": null,
      "outputs": []
    },
    {
      "cell_type": "code",
      "source": [
        "model_8.compile(optimizer='rmsprop',\n",
        "              loss='binary_crossentropy',\n",
        "              metrics=['accuracy'])"
      ],
      "metadata": {
        "id": "QJ3sPGrLR3kT"
      },
      "execution_count": null,
      "outputs": []
    },
    {
      "cell_type": "code",
      "source": [
        "history_8 = model_8.fit(partial_x_train,\n",
        "                    partial_y_train,\n",
        "                    epochs=25,\n",
        "                    batch_size=512,\n",
        "                    validation_data=(x_val, y_val))"
      ],
      "metadata": {
        "colab": {
          "base_uri": "https://localhost:8080/"
        },
        "id": "NCS-1Qg0R9eQ",
        "outputId": "4598ec53-3d76-4df4-9019-99035b0aba52"
      },
      "execution_count": null,
      "outputs": [
        {
          "output_type": "stream",
          "name": "stdout",
          "text": [
            "Epoch 1/25\n",
            "30/30 [==============================] - 4s 103ms/step - loss: 0.5725 - accuracy: 0.7799 - val_loss: 0.4582 - val_accuracy: 0.8499\n",
            "Epoch 2/25\n",
            "30/30 [==============================] - 1s 45ms/step - loss: 0.3742 - accuracy: 0.8942 - val_loss: 0.3862 - val_accuracy: 0.8686\n",
            "Epoch 3/25\n",
            "30/30 [==============================] - 1s 38ms/step - loss: 0.2987 - accuracy: 0.9171 - val_loss: 0.3400 - val_accuracy: 0.8861\n",
            "Epoch 4/25\n",
            "30/30 [==============================] - 1s 34ms/step - loss: 0.2606 - accuracy: 0.9269 - val_loss: 0.3414 - val_accuracy: 0.8822\n",
            "Epoch 5/25\n",
            "30/30 [==============================] - 1s 36ms/step - loss: 0.2338 - accuracy: 0.9395 - val_loss: 0.3524 - val_accuracy: 0.8799\n",
            "Epoch 6/25\n",
            "30/30 [==============================] - 1s 36ms/step - loss: 0.2158 - accuracy: 0.9463 - val_loss: 0.3590 - val_accuracy: 0.8797\n",
            "Epoch 7/25\n",
            "30/30 [==============================] - 1s 36ms/step - loss: 0.2026 - accuracy: 0.9515 - val_loss: 0.3529 - val_accuracy: 0.8815\n",
            "Epoch 8/25\n",
            "30/30 [==============================] - 1s 36ms/step - loss: 0.1939 - accuracy: 0.9544 - val_loss: 0.3563 - val_accuracy: 0.8773\n",
            "Epoch 9/25\n",
            "30/30 [==============================] - 1s 36ms/step - loss: 0.1806 - accuracy: 0.9631 - val_loss: 0.4031 - val_accuracy: 0.8693\n",
            "Epoch 10/25\n",
            "30/30 [==============================] - 1s 37ms/step - loss: 0.1765 - accuracy: 0.9629 - val_loss: 0.3649 - val_accuracy: 0.8793\n",
            "Epoch 11/25\n",
            "30/30 [==============================] - 2s 52ms/step - loss: 0.1716 - accuracy: 0.9649 - val_loss: 0.3717 - val_accuracy: 0.8817\n",
            "Epoch 12/25\n",
            "30/30 [==============================] - 2s 53ms/step - loss: 0.1648 - accuracy: 0.9683 - val_loss: 0.3838 - val_accuracy: 0.8796\n",
            "Epoch 13/25\n",
            "30/30 [==============================] - 1s 37ms/step - loss: 0.1536 - accuracy: 0.9729 - val_loss: 0.5093 - val_accuracy: 0.8480\n",
            "Epoch 14/25\n",
            "30/30 [==============================] - 1s 36ms/step - loss: 0.1552 - accuracy: 0.9711 - val_loss: 0.3922 - val_accuracy: 0.8799\n",
            "Epoch 15/25\n",
            "30/30 [==============================] - 1s 49ms/step - loss: 0.1480 - accuracy: 0.9765 - val_loss: 0.4037 - val_accuracy: 0.8775\n",
            "Epoch 16/25\n",
            "30/30 [==============================] - 1s 36ms/step - loss: 0.1504 - accuracy: 0.9732 - val_loss: 0.4067 - val_accuracy: 0.8778\n",
            "Epoch 17/25\n",
            "30/30 [==============================] - 1s 35ms/step - loss: 0.1385 - accuracy: 0.9798 - val_loss: 0.4512 - val_accuracy: 0.8631\n",
            "Epoch 18/25\n",
            "30/30 [==============================] - 1s 36ms/step - loss: 0.1433 - accuracy: 0.9757 - val_loss: 0.4485 - val_accuracy: 0.8720\n",
            "Epoch 19/25\n",
            "30/30 [==============================] - 1s 35ms/step - loss: 0.1344 - accuracy: 0.9814 - val_loss: 0.4256 - val_accuracy: 0.8740\n",
            "Epoch 20/25\n",
            "30/30 [==============================] - 1s 33ms/step - loss: 0.1351 - accuracy: 0.9797 - val_loss: 0.4592 - val_accuracy: 0.8637\n",
            "Epoch 21/25\n",
            "30/30 [==============================] - 1s 35ms/step - loss: 0.1344 - accuracy: 0.9801 - val_loss: 0.4529 - val_accuracy: 0.8666\n",
            "Epoch 22/25\n",
            "30/30 [==============================] - 2s 51ms/step - loss: 0.1312 - accuracy: 0.9818 - val_loss: 0.5237 - val_accuracy: 0.8584\n",
            "Epoch 23/25\n",
            "30/30 [==============================] - 2s 64ms/step - loss: 0.1286 - accuracy: 0.9819 - val_loss: 0.4489 - val_accuracy: 0.8720\n",
            "Epoch 24/25\n",
            "30/30 [==============================] - 1s 34ms/step - loss: 0.1220 - accuracy: 0.9871 - val_loss: 0.4889 - val_accuracy: 0.8667\n",
            "Epoch 25/25\n",
            "30/30 [==============================] - 1s 36ms/step - loss: 0.1286 - accuracy: 0.9817 - val_loss: 0.4811 - val_accuracy: 0.8679\n"
          ]
        }
      ]
    },
    {
      "cell_type": "code",
      "source": [
        "model_8.summary()"
      ],
      "metadata": {
        "colab": {
          "base_uri": "https://localhost:8080/"
        },
        "id": "Rttm-v9oSa2F",
        "outputId": "cde19d64-02de-403a-ffde-3bead4d2cc35"
      },
      "execution_count": null,
      "outputs": [
        {
          "output_type": "stream",
          "name": "stdout",
          "text": [
            "Model: \"sequential_5\"\n",
            "_________________________________________________________________\n",
            " Layer (type)                Output Shape              Param #   \n",
            "=================================================================\n",
            " dense_14 (Dense)            (None, 16)                160016    \n",
            "                                                                 \n",
            " dense_15 (Dense)            (None, 16)                272       \n",
            "                                                                 \n",
            " dense_16 (Dense)            (None, 1)                 17        \n",
            "                                                                 \n",
            "=================================================================\n",
            "Total params: 160,305\n",
            "Trainable params: 160,305\n",
            "Non-trainable params: 0\n",
            "_________________________________________________________________\n"
          ]
        }
      ]
    },
    {
      "cell_type": "code",
      "source": [
        "history_dict_8 = history_8.history\n",
        "history_dict_8.keys()"
      ],
      "metadata": {
        "colab": {
          "base_uri": "https://localhost:8080/"
        },
        "id": "SMbHNdGISdSv",
        "outputId": "c6f9f5f6-986f-4ba8-d4b3-0bfe930b2448"
      },
      "execution_count": null,
      "outputs": [
        {
          "output_type": "execute_result",
          "data": {
            "text/plain": [
              "dict_keys(['loss', 'accuracy', 'val_loss', 'val_accuracy'])"
            ]
          },
          "metadata": {},
          "execution_count": 27
        }
      ]
    },
    {
      "cell_type": "code",
      "source": [
        "import matplotlib.pyplot as plt\n",
        "\n",
        "twolyreg_loss = history_8.history['loss']\n",
        "twolyreg_val_loss = history_8.history['val_loss']\n",
        "\n",
        "twolyreg_epochs =range(1, len(twolyreg_loss) + 1)\n",
        "\n",
        "# \"bo\" is for \"blue dot\"\n",
        "plt.plot(twolyreg_epochs, twolyreg_loss, 'bo', label='Training loss')\n",
        "# b is for \"solid blue line\"\n",
        "plt.plot(twolyreg_epochs, twolyreg_val_loss, 'b', label='Validation loss')\n",
        "plt.title('Training and validation loss')\n",
        "plt.xlabel('Epochs')\n",
        "plt.ylabel('Loss')\n",
        "plt.legend()\n",
        "\n",
        "plt.show()"
      ],
      "metadata": {
        "colab": {
          "base_uri": "https://localhost:8080/",
          "height": 295
        },
        "id": "6PUSeHleSjQ0",
        "outputId": "1ee5547b-d4df-4ed7-ea8b-e68c28f2455b"
      },
      "execution_count": null,
      "outputs": [
        {
          "output_type": "display_data",
          "data": {
            "text/plain": [
              "<Figure size 432x288 with 1 Axes>"
            ],
            "image/png": "[encoded data removed]"
          },
          "metadata": {
            "needs_background": "light"
          }
        }
      ]
    },
    {
      "cell_type": "code",
      "source": [
        "plt.clf()   # clear figure\n",
        "twolyreg_acc_values = history_8.history['accuracy']\n",
        "twolyreg_val_acc_values = history_8.history['val_accuracy']\n",
        "\n",
        "\n",
        "twolyreg_epochs = range(1, len(twolyreg_acc_values) + 1)\n",
        "plt.plot(twolyreg_epochs, twolyreg_acc_values, 'go', label='Training acc')\n",
        "plt.plot(twolyreg_epochs, twolyreg_val_acc_values, 'g', label='Validation acc')\n",
        "plt.title('Training and validation accuracy')\n",
        "plt.xlabel('Epochs')\n",
        "plt.ylabel('Loss')\n",
        "plt.legend()\n",
        "\n",
        "plt.show()"
      ],
      "metadata": {
        "colab": {
          "base_uri": "https://localhost:8080/",
          "height": 295
        },
        "id": "boVp7cOxTQv2",
        "outputId": "11dba403-2b33-4fa9-8cdd-d0189eb6bffc"
      },
      "execution_count": null,
      "outputs": [
        {
          "output_type": "display_data",
          "data": {
            "text/plain": [
              "<Figure size 432x288 with 1 Axes>"
            ],
            "image/png": "[encoded data removed]"
          },
          "metadata": {
            "needs_background": "light"
          }
        }
      ]
    },
    {
      "cell_type": "markdown",
      "source": [
        "**The results show that the best accuracy on the validation set appears around 3 epochs.**"
      ],
      "metadata": {
        "id": "heFNt3-in6AL"
      }
    },
    {
      "cell_type": "markdown",
      "source": [
        "###**_Back Propagation- Retraining the model using 3 epochs._**"
      ],
      "metadata": {
        "id": "MV_0aXbnoGK-"
      }
    },
    {
      "cell_type": "code",
      "source": [
        "from keras import regularizers\n",
        "\n",
        "model_t8 = models.Sequential()\n",
        "model_t8.add(layers.Dense(16, kernel_regularizer=regularizers.l2(0.001), \n",
        "                           activation='relu', input_shape=(10000,)))\n",
        "model_t8.add(layers.Dense(16, kernel_regularizer=regularizers.l2(0.001), \n",
        "                           activation='relu'))\n",
        "model_t8.add(layers.Dense(1, activation='sigmoid'))\n",
        "\n",
        "model_t8.compile(optimizer='rmsprop',\n",
        "                 loss='binary_crossentropy',\n",
        "                 metrics=['acc'])\n",
        "\n",
        "model_t8.fit(x_train, y_train,\n",
        "                             epochs=3,\n",
        "                             batch_size=512)\n",
        "\n",
        "results = model_t8.evaluate(x_test, y_test)\n",
        "results"
      ],
      "metadata": {
        "colab": {
          "base_uri": "https://localhost:8080/"
        },
        "id": "38vy8hJ4Tf1K",
        "outputId": "fa75b552-f6c9-4593-9709-6be3442ea1d8"
      },
      "execution_count": null,
      "outputs": [
        {
          "output_type": "stream",
          "name": "stdout",
          "text": [
            "Epoch 1/3\n",
            "49/49 [==============================] - 2s 28ms/step - loss: 0.5249 - acc: 0.8047\n",
            "Epoch 2/3\n",
            "49/49 [==============================] - 1s 27ms/step - loss: 0.3287 - acc: 0.8986\n",
            "Epoch 3/3\n",
            "49/49 [==============================] - 1s 26ms/step - loss: 0.2765 - acc: 0.9188\n",
            "782/782 [==============================] - 3s 3ms/step - loss: 0.3373 - acc: 0.8844\n"
          ]
        },
        {
          "output_type": "execute_result",
          "data": {
            "text/plain": [
              "[0.3372530937194824, 0.8844000101089478]"
            ]
          },
          "metadata": {},
          "execution_count": 30
        }
      ]
    },
    {
      "cell_type": "markdown",
      "source": [
        "**_The accuracy of the model on the test set is 88.44%_** "
      ],
      "metadata": {
        "id": "4OI634iooRKt"
      }
    },
    {
      "cell_type": "markdown",
      "source": [
        "## **Model 9: 2 layers, 16 Neurons, Activation- relu, Optimizer- rmsprop, Loss- binary_crossentropy, Dropout- 0.5** "
      ],
      "metadata": {
        "id": "eZ193vXfohca"
      }
    },
    {
      "cell_type": "code",
      "source": [
        "model_9 = models.Sequential()\n",
        "model_9.add(layers.Dense(16, activation='relu', input_shape=(10000,)))\n",
        "model_9.add(layers.Dropout(rate= 0.5))\n",
        "model_9.add(layers.Dense(16, activation='relu'))\n",
        "model_9.add(layers.Dropout(rate=0.5))\n",
        "model_9.add(layers.Dense(1, activation='sigmoid'))"
      ],
      "metadata": {
        "id": "F0etP4fI-P9M"
      },
      "execution_count": null,
      "outputs": []
    },
    {
      "cell_type": "code",
      "source": [
        "model_9.compile(optimizer='rmsprop',\n",
        "              loss='binary_crossentropy',\n",
        "              metrics=['accuracy'])"
      ],
      "metadata": {
        "id": "J1Cj-Zx2Vn92"
      },
      "execution_count": null,
      "outputs": []
    },
    {
      "cell_type": "code",
      "source": [
        "history_9 = model_9.fit(partial_x_train,\n",
        "                    partial_y_train,\n",
        "                    epochs=25,\n",
        "                    batch_size=512,\n",
        "                    validation_data=(x_val, y_val))"
      ],
      "metadata": {
        "colab": {
          "base_uri": "https://localhost:8080/"
        },
        "id": "V9uV-jc3V8IT",
        "outputId": "ce262a91-0fd8-4307-aa40-67072d02294b"
      },
      "execution_count": null,
      "outputs": [
        {
          "output_type": "stream",
          "name": "stdout",
          "text": [
            "Epoch 1/25\n",
            "30/30 [==============================] - 4s 94ms/step - loss: 0.6357 - accuracy: 0.6124 - val_loss: 0.5465 - val_accuracy: 0.8421\n",
            "Epoch 2/25\n",
            "30/30 [==============================] - 1s 48ms/step - loss: 0.5394 - accuracy: 0.7321 - val_loss: 0.4525 - val_accuracy: 0.8678\n",
            "Epoch 3/25\n",
            "30/30 [==============================] - 1s 44ms/step - loss: 0.4707 - accuracy: 0.7951 - val_loss: 0.3775 - val_accuracy: 0.8739\n",
            "Epoch 4/25\n",
            "30/30 [==============================] - 1s 44ms/step - loss: 0.4085 - accuracy: 0.8307 - val_loss: 0.3288 - val_accuracy: 0.8856\n",
            "Epoch 5/25\n",
            "30/30 [==============================] - 1s 42ms/step - loss: 0.3511 - accuracy: 0.8663 - val_loss: 0.2956 - val_accuracy: 0.8889\n",
            "Epoch 6/25\n",
            "30/30 [==============================] - 1s 38ms/step - loss: 0.3140 - accuracy: 0.8841 - val_loss: 0.2816 - val_accuracy: 0.8904\n",
            "Epoch 7/25\n",
            "30/30 [==============================] - 1s 36ms/step - loss: 0.2797 - accuracy: 0.9052 - val_loss: 0.2774 - val_accuracy: 0.8882\n",
            "Epoch 8/25\n",
            "30/30 [==============================] - 1s 37ms/step - loss: 0.2467 - accuracy: 0.9181 - val_loss: 0.2767 - val_accuracy: 0.8892\n",
            "Epoch 9/25\n",
            "30/30 [==============================] - 1s 40ms/step - loss: 0.2228 - accuracy: 0.9259 - val_loss: 0.2804 - val_accuracy: 0.8889\n",
            "Epoch 10/25\n",
            "30/30 [==============================] - 1s 42ms/step - loss: 0.1974 - accuracy: 0.9389 - val_loss: 0.2900 - val_accuracy: 0.8874\n",
            "Epoch 11/25\n",
            "30/30 [==============================] - 2s 64ms/step - loss: 0.1817 - accuracy: 0.9447 - val_loss: 0.2996 - val_accuracy: 0.8885\n",
            "Epoch 12/25\n",
            "30/30 [==============================] - 1s 44ms/step - loss: 0.1621 - accuracy: 0.9511 - val_loss: 0.3218 - val_accuracy: 0.8863\n",
            "Epoch 13/25\n",
            "30/30 [==============================] - 1s 38ms/step - loss: 0.1470 - accuracy: 0.9564 - val_loss: 0.3504 - val_accuracy: 0.8853\n",
            "Epoch 14/25\n",
            "30/30 [==============================] - 1s 37ms/step - loss: 0.1335 - accuracy: 0.9611 - val_loss: 0.3529 - val_accuracy: 0.8880\n",
            "Epoch 15/25\n",
            "30/30 [==============================] - 2s 52ms/step - loss: 0.1210 - accuracy: 0.9644 - val_loss: 0.3722 - val_accuracy: 0.8842\n",
            "Epoch 16/25\n",
            "30/30 [==============================] - 2s 65ms/step - loss: 0.1123 - accuracy: 0.9669 - val_loss: 0.4115 - val_accuracy: 0.8833\n",
            "Epoch 17/25\n",
            "30/30 [==============================] - 1s 42ms/step - loss: 0.1039 - accuracy: 0.9697 - val_loss: 0.4106 - val_accuracy: 0.8841\n",
            "Epoch 18/25\n",
            "30/30 [==============================] - 1s 38ms/step - loss: 0.1011 - accuracy: 0.9713 - val_loss: 0.4517 - val_accuracy: 0.8823\n",
            "Epoch 19/25\n",
            "30/30 [==============================] - 1s 40ms/step - loss: 0.0887 - accuracy: 0.9743 - val_loss: 0.4849 - val_accuracy: 0.8839\n",
            "Epoch 20/25\n",
            "30/30 [==============================] - 2s 74ms/step - loss: 0.0865 - accuracy: 0.9757 - val_loss: 0.4862 - val_accuracy: 0.8838\n",
            "Epoch 21/25\n",
            "30/30 [==============================] - 1s 47ms/step - loss: 0.0821 - accuracy: 0.9784 - val_loss: 0.4987 - val_accuracy: 0.8790\n",
            "Epoch 22/25\n",
            "30/30 [==============================] - 1s 38ms/step - loss: 0.0747 - accuracy: 0.9803 - val_loss: 0.5050 - val_accuracy: 0.8816\n",
            "Epoch 23/25\n",
            "30/30 [==============================] - 1s 38ms/step - loss: 0.0703 - accuracy: 0.9812 - val_loss: 0.5418 - val_accuracy: 0.8807\n",
            "Epoch 24/25\n",
            "30/30 [==============================] - 2s 55ms/step - loss: 0.0762 - accuracy: 0.9805 - val_loss: 0.5438 - val_accuracy: 0.8813\n",
            "Epoch 25/25\n",
            "30/30 [==============================] - 1s 37ms/step - loss: 0.0648 - accuracy: 0.9823 - val_loss: 0.5951 - val_accuracy: 0.8796\n"
          ]
        }
      ]
    },
    {
      "cell_type": "code",
      "source": [
        "model_9.summary()"
      ],
      "metadata": {
        "colab": {
          "base_uri": "https://localhost:8080/"
        },
        "id": "dzXTAPnJWPvd",
        "outputId": "4acf9f50-9410-4806-ade8-597192f4f650"
      },
      "execution_count": null,
      "outputs": [
        {
          "output_type": "stream",
          "name": "stdout",
          "text": [
            "Model: \"sequential\"\n",
            "_________________________________________________________________\n",
            " Layer (type)                Output Shape              Param #   \n",
            "=================================================================\n",
            " dense (Dense)               (None, 16)                160016    \n",
            "                                                                 \n",
            " dropout (Dropout)           (None, 16)                0         \n",
            "                                                                 \n",
            " dense_1 (Dense)             (None, 16)                272       \n",
            "                                                                 \n",
            " dropout_1 (Dropout)         (None, 16)                0         \n",
            "                                                                 \n",
            " dense_2 (Dense)             (None, 1)                 17        \n",
            "                                                                 \n",
            "=================================================================\n",
            "Total params: 160,305\n",
            "Trainable params: 160,305\n",
            "Non-trainable params: 0\n",
            "_________________________________________________________________\n"
          ]
        }
      ]
    },
    {
      "cell_type": "code",
      "source": [
        "history_dict_9 = history_9.history\n",
        "history_dict_9.keys()"
      ],
      "metadata": {
        "colab": {
          "base_uri": "https://localhost:8080/"
        },
        "id": "hUKrX0gZWTQC",
        "outputId": "ed69a95e-a89e-4dd8-d7bd-6747f34e126d"
      },
      "execution_count": null,
      "outputs": [
        {
          "output_type": "execute_result",
          "data": {
            "text/plain": [
              "dict_keys(['loss', 'accuracy', 'val_loss', 'val_accuracy'])"
            ]
          },
          "metadata": {},
          "execution_count": 12
        }
      ]
    },
    {
      "cell_type": "code",
      "source": [
        "import matplotlib.pyplot as plt\n",
        "\n",
        "twolydrop_loss = history_9.history['loss']\n",
        "twolydrop_val_loss = history_9.history['val_loss']\n",
        "\n",
        "twolydrop_epochs = range(1, len(twolydrop_loss) + 1)\n",
        "\n",
        "# \"bo\" is for \"blue dot\"\n",
        "plt.plot(twolydrop_epochs, twolydrop_loss, 'ro', label='Training loss')\n",
        "# b is for \"solid blue line\"\n",
        "plt.plot(twolydrop_epochs, twolydrop_val_loss, 'r', label='Validation loss')\n",
        "plt.title('Training and validation loss')\n",
        "plt.xlabel('Epochs')\n",
        "plt.ylabel('Loss')\n",
        "plt.legend()\n",
        "\n",
        "plt.show()"
      ],
      "metadata": {
        "colab": {
          "base_uri": "https://localhost:8080/",
          "height": 295
        },
        "id": "YxkzcN2KWaCN",
        "outputId": "010878bc-9573-4624-de70-49bf3418e326"
      },
      "execution_count": null,
      "outputs": [
        {
          "output_type": "display_data",
          "data": {
            "text/plain": [
              "<Figure size 432x288 with 1 Axes>"
            ],
            "image/png": "[encoded data removed]"
          },
          "metadata": {
            "needs_background": "light"
          }
        }
      ]
    },
    {
      "cell_type": "code",
      "source": [
        "plt.clf()   # clear figure\n",
        "twolydrop_accuracy = history_9.history['accuracy']\n",
        "twolydrop_val_accuracy = history_9.history['val_accuracy']\n",
        "\n",
        "twolydrop_epochs = range(1, len(twolydrop_accuracy) + 1)\n",
        "\n",
        "plt.plot(twolydrop_epochs, twolydrop_accuracy, 'go', label='Training acc')\n",
        "plt.plot(twolydrop_epochs, twolydrop_val_accuracy, 'g', label='Validation acc')\n",
        "plt.title('Training and validation accuracy')\n",
        "plt.xlabel('Epochs')\n",
        "plt.ylabel('Loss')\n",
        "plt.legend()\n",
        "\n",
        "plt.show()"
      ],
      "metadata": {
        "colab": {
          "base_uri": "https://localhost:8080/",
          "height": 295
        },
        "id": "RcHtrhJTWfJI",
        "outputId": "8fb941a2-8b5e-4c28-b8e6-602b9174a35b"
      },
      "execution_count": null,
      "outputs": [
        {
          "output_type": "display_data",
          "data": {
            "text/plain": [
              "<Figure size 432x288 with 1 Axes>"
            ],
            "image/png": "[encoded data removed]"
          },
          "metadata": {
            "needs_background": "light"
          }
        }
      ]
    },
    {
      "cell_type": "markdown",
      "source": [
        "**The results show that the best accuracy on the validation set appears around 8 epochs.**"
      ],
      "metadata": {
        "id": "LVwTh-uOpC-7"
      }
    },
    {
      "cell_type": "markdown",
      "source": [
        "###**_Back Propagation- Retraining the model using 8 epochs._**"
      ],
      "metadata": {
        "id": "bQIbbK0epLNQ"
      }
    },
    {
      "cell_type": "code",
      "source": [
        "model_t9 = models.Sequential()\n",
        "model_t9.add(layers.Dense(16, activation='relu', input_shape=(10000,)))\n",
        "model_t9.add(layers.Dropout(rate= 0.5))\n",
        "model_t9.add(layers.Dense(16, activation='relu'))\n",
        "model_t9.add(layers.Dropout(rate= 0.5))\n",
        "model_t9.add(layers.Dense(1, activation='sigmoid'))\n",
        "\n",
        "model_t9.compile(optimizer='rmsprop',\n",
        "              loss='binary_crossentropy',\n",
        "              metrics=['accuracy'])\n",
        "\n",
        "model_t9.fit(x_train, y_train, epochs=8, batch_size=512)\n",
        "results = model_t9.evaluate(x_test, y_test)"
      ],
      "metadata": {
        "colab": {
          "base_uri": "https://localhost:8080/"
        },
        "id": "7PfoDbb3WkpQ",
        "outputId": "b59c5670-e9ff-4f4f-f464-4e729e7a7498"
      },
      "execution_count": null,
      "outputs": [
        {
          "output_type": "stream",
          "name": "stdout",
          "text": [
            "Epoch 1/8\n",
            "49/49 [==============================] - 2s 32ms/step - loss: 0.6349 - accuracy: 0.6366\n",
            "Epoch 2/8\n",
            "49/49 [==============================] - 2s 32ms/step - loss: 0.5097 - accuracy: 0.7867\n",
            "Epoch 3/8\n",
            "49/49 [==============================] - 2s 30ms/step - loss: 0.4211 - accuracy: 0.8460\n",
            "Epoch 4/8\n",
            "49/49 [==============================] - 1s 30ms/step - loss: 0.3563 - accuracy: 0.8780\n",
            "Epoch 5/8\n",
            "49/49 [==============================] - 1s 28ms/step - loss: 0.3058 - accuracy: 0.8960\n",
            "Epoch 6/8\n",
            "49/49 [==============================] - 1s 29ms/step - loss: 0.2744 - accuracy: 0.9090\n",
            "Epoch 7/8\n",
            "49/49 [==============================] - 2s 39ms/step - loss: 0.2435 - accuracy: 0.9183\n",
            "Epoch 8/8\n",
            "49/49 [==============================] - 2s 40ms/step - loss: 0.2239 - accuracy: 0.9246\n",
            "782/782 [==============================] - 2s 3ms/step - loss: 0.3013 - accuracy: 0.8855\n"
          ]
        }
      ]
    },
    {
      "cell_type": "code",
      "source": [
        "\n",
        "results"
      ],
      "metadata": {
        "colab": {
          "base_uri": "https://localhost:8080/"
        },
        "id": "-y12d8vdXCaU",
        "outputId": "2d7ac703-c34f-40c9-8031-94fbb64aa411"
      },
      "execution_count": null,
      "outputs": [
        {
          "output_type": "execute_result",
          "data": {
            "text/plain": [
              "[0.30133768916130066, 0.8854799866676331]"
            ]
          },
          "metadata": {},
          "execution_count": 16
        }
      ]
    },
    {
      "cell_type": "markdown",
      "source": [
        "**_The accuracy of the model on the test set is 88.55%_** "
      ],
      "metadata": {
        "id": "ndiQ0TNgpVDm"
      }
    },
    {
      "cell_type": "markdown",
      "source": [
        "## **Model 10: 2 layers, 16 Neurons, Activation- relu, Optimizer- rmsprop, Loss- binary_crossentropy, Dropout- 0.3** "
      ],
      "metadata": {
        "id": "Nf-EPtPSpwth"
      }
    },
    {
      "cell_type": "code",
      "source": [
        "from keras.layers import Dropout\n",
        "\n",
        "\n",
        "model_10 = models.Sequential()\n",
        "model_10.add(layers.Dense(16, activation='relu', input_shape=(10000,)))\n",
        "model_10.add(layers.Dropout(rate= 0.3))\n",
        "model_10.add(layers.Dense(16, activation='relu'))\n",
        "model_10.add(layers.Dropout(rate=0.3))\n",
        "model_10.add(layers.Dense(1, activation='sigmoid'))"
      ],
      "metadata": {
        "id": "6EmwRd73an5L"
      },
      "execution_count": null,
      "outputs": []
    },
    {
      "cell_type": "code",
      "source": [
        "model_10.compile(optimizer='rmsprop',\n",
        "              loss='binary_crossentropy',\n",
        "              metrics=['accuracy'])"
      ],
      "metadata": {
        "id": "plDVJgxwbDgg"
      },
      "execution_count": null,
      "outputs": []
    },
    {
      "cell_type": "code",
      "source": [
        "history_10 = model_10.fit(partial_x_train,\n",
        "                    partial_y_train,\n",
        "                    epochs=25,\n",
        "                    batch_size=512,\n",
        "                    validation_data=(x_val, y_val))"
      ],
      "metadata": {
        "colab": {
          "base_uri": "https://localhost:8080/"
        },
        "id": "AaYgaiSJbJhv",
        "outputId": "49159ce5-7e0a-4a7b-ab37-407baebd11a8"
      },
      "execution_count": null,
      "outputs": [
        {
          "output_type": "stream",
          "name": "stdout",
          "text": [
            "Epoch 1/25\n",
            "30/30 [==============================] - 4s 72ms/step - loss: 0.5802 - accuracy: 0.7117 - val_loss: 0.4283 - val_accuracy: 0.8606\n",
            "Epoch 2/25\n",
            "30/30 [==============================] - 1s 42ms/step - loss: 0.4138 - accuracy: 0.8386 - val_loss: 0.3395 - val_accuracy: 0.8770\n",
            "Epoch 3/25\n",
            "30/30 [==============================] - 2s 57ms/step - loss: 0.3293 - accuracy: 0.8795 - val_loss: 0.3071 - val_accuracy: 0.8788\n",
            "Epoch 4/25\n",
            "30/30 [==============================] - 2s 71ms/step - loss: 0.2777 - accuracy: 0.9022 - val_loss: 0.2801 - val_accuracy: 0.8878\n",
            "Epoch 5/25\n",
            "30/30 [==============================] - 1s 48ms/step - loss: 0.2332 - accuracy: 0.9211 - val_loss: 0.2964 - val_accuracy: 0.8802\n",
            "Epoch 6/25\n",
            "30/30 [==============================] - 1s 39ms/step - loss: 0.2016 - accuracy: 0.9333 - val_loss: 0.2882 - val_accuracy: 0.8841\n",
            "Epoch 7/25\n",
            "30/30 [==============================] - 1s 37ms/step - loss: 0.1746 - accuracy: 0.9439 - val_loss: 0.2845 - val_accuracy: 0.8870\n",
            "Epoch 8/25\n",
            "30/30 [==============================] - 1s 41ms/step - loss: 0.1457 - accuracy: 0.9544 - val_loss: 0.2979 - val_accuracy: 0.8866\n",
            "Epoch 9/25\n",
            "30/30 [==============================] - 2s 55ms/step - loss: 0.1214 - accuracy: 0.9609 - val_loss: 0.3106 - val_accuracy: 0.8863\n",
            "Epoch 10/25\n",
            "30/30 [==============================] - 1s 39ms/step - loss: 0.1097 - accuracy: 0.9673 - val_loss: 0.3327 - val_accuracy: 0.8812\n",
            "Epoch 11/25\n",
            "30/30 [==============================] - 1s 38ms/step - loss: 0.0910 - accuracy: 0.9721 - val_loss: 0.3601 - val_accuracy: 0.8838\n",
            "Epoch 12/25\n",
            "30/30 [==============================] - 1s 39ms/step - loss: 0.0792 - accuracy: 0.9766 - val_loss: 0.3860 - val_accuracy: 0.8829\n",
            "Epoch 13/25\n",
            "30/30 [==============================] - 2s 63ms/step - loss: 0.0663 - accuracy: 0.9808 - val_loss: 0.4121 - val_accuracy: 0.8816\n",
            "Epoch 14/25\n",
            "30/30 [==============================] - 1s 47ms/step - loss: 0.0603 - accuracy: 0.9823 - val_loss: 0.4387 - val_accuracy: 0.8798\n",
            "Epoch 15/25\n",
            "30/30 [==============================] - 1s 37ms/step - loss: 0.0527 - accuracy: 0.9843 - val_loss: 0.4465 - val_accuracy: 0.8806\n",
            "Epoch 16/25\n",
            "30/30 [==============================] - 2s 57ms/step - loss: 0.0451 - accuracy: 0.9877 - val_loss: 0.4962 - val_accuracy: 0.8804\n",
            "Epoch 17/25\n",
            "30/30 [==============================] - 1s 43ms/step - loss: 0.0391 - accuracy: 0.9899 - val_loss: 0.5524 - val_accuracy: 0.8806\n",
            "Epoch 18/25\n",
            "30/30 [==============================] - 1s 37ms/step - loss: 0.0356 - accuracy: 0.9905 - val_loss: 0.5428 - val_accuracy: 0.8801\n",
            "Epoch 19/25\n",
            "30/30 [==============================] - 1s 37ms/step - loss: 0.0326 - accuracy: 0.9909 - val_loss: 0.5915 - val_accuracy: 0.8759\n",
            "Epoch 20/25\n",
            "30/30 [==============================] - 1s 41ms/step - loss: 0.0313 - accuracy: 0.9915 - val_loss: 0.6052 - val_accuracy: 0.8792\n",
            "Epoch 21/25\n",
            "30/30 [==============================] - 1s 44ms/step - loss: 0.0253 - accuracy: 0.9932 - val_loss: 0.6538 - val_accuracy: 0.8773\n",
            "Epoch 22/25\n",
            "30/30 [==============================] - 1s 44ms/step - loss: 0.0283 - accuracy: 0.9926 - val_loss: 0.6344 - val_accuracy: 0.8782\n",
            "Epoch 23/25\n",
            "30/30 [==============================] - 2s 62ms/step - loss: 0.0233 - accuracy: 0.9935 - val_loss: 0.7033 - val_accuracy: 0.8791\n",
            "Epoch 24/25\n",
            "30/30 [==============================] - 2s 51ms/step - loss: 0.0219 - accuracy: 0.9940 - val_loss: 0.7091 - val_accuracy: 0.8796\n",
            "Epoch 25/25\n",
            "30/30 [==============================] - 1s 38ms/step - loss: 0.0217 - accuracy: 0.9939 - val_loss: 0.7258 - val_accuracy: 0.8798\n"
          ]
        }
      ]
    },
    {
      "cell_type": "code",
      "source": [
        "model_10.summary()"
      ],
      "metadata": {
        "colab": {
          "base_uri": "https://localhost:8080/"
        },
        "id": "rg36_0xic2Ir",
        "outputId": "11e2ddd2-b3af-4b45-b843-9a7e873d37b4"
      },
      "execution_count": null,
      "outputs": [
        {
          "output_type": "stream",
          "name": "stdout",
          "text": [
            "Model: \"sequential\"\n",
            "_________________________________________________________________\n",
            " Layer (type)                Output Shape              Param #   \n",
            "=================================================================\n",
            " dense (Dense)               (None, 16)                160016    \n",
            "                                                                 \n",
            " dropout (Dropout)           (None, 16)                0         \n",
            "                                                                 \n",
            " dense_1 (Dense)             (None, 16)                272       \n",
            "                                                                 \n",
            " dropout_1 (Dropout)         (None, 16)                0         \n",
            "                                                                 \n",
            " dense_2 (Dense)             (None, 1)                 17        \n",
            "                                                                 \n",
            "=================================================================\n",
            "Total params: 160,305\n",
            "Trainable params: 160,305\n",
            "Non-trainable params: 0\n",
            "_________________________________________________________________\n"
          ]
        }
      ]
    },
    {
      "cell_type": "code",
      "source": [
        "history_dict_10 = history_10.history\n",
        "history_dict_10.keys()"
      ],
      "metadata": {
        "colab": {
          "base_uri": "https://localhost:8080/"
        },
        "id": "tnIXaZd7c7Uq",
        "outputId": "5f9f02b4-f518-4a4c-c506-a11170fb0562"
      },
      "execution_count": null,
      "outputs": [
        {
          "output_type": "execute_result",
          "data": {
            "text/plain": [
              "dict_keys(['loss', 'accuracy', 'val_loss', 'val_accuracy'])"
            ]
          },
          "metadata": {},
          "execution_count": 10
        }
      ]
    },
    {
      "cell_type": "code",
      "source": [
        "import matplotlib.pyplot as plt\n",
        "\n",
        "twolydrop2_loss = history_10.history['loss']\n",
        "twolydrop2_val_loss = history_10.history['val_loss']\n",
        "\n",
        "twolydrop2_epochs = range(1, len(twolydrop2_loss) + 1)\n",
        "\n",
        "# \"bo\" is for \"blue dot\"\n",
        "plt.plot(twolydrop2_epochs, twolydrop2_loss, 'ro', label='Training loss')\n",
        "# b is for \"solid blue line\"\n",
        "plt.plot(twolydrop2_epochs, twolydrop2_val_loss, 'r', label='Validation loss')\n",
        "plt.title('Training and validation loss')\n",
        "plt.xlabel('Epochs')\n",
        "plt.ylabel('Loss')\n",
        "plt.legend()\n",
        "\n",
        "plt.show()"
      ],
      "metadata": {
        "colab": {
          "base_uri": "https://localhost:8080/",
          "height": 295
        },
        "id": "x6kk1koWdBa6",
        "outputId": "ab1d325a-d2ef-46cc-beb5-ef69da580ce9"
      },
      "execution_count": null,
      "outputs": [
        {
          "output_type": "display_data",
          "data": {
            "text/plain": [
              "<Figure size 432x288 with 1 Axes>"
            ],
            "image/png": "[encoded data removed]"
          },
          "metadata": {
            "needs_background": "light"
          }
        }
      ]
    },
    {
      "cell_type": "code",
      "source": [
        "plt.clf()   # clear figure\n",
        "twolydrop2_accuracy = history_10.history['accuracy']\n",
        "twolydrop2_val_accuracy = history_10.history['val_accuracy']\n",
        "\n",
        "twolydrop2_epochs = range(1, len(twolydrop2_accuracy) + 1)\n",
        "\n",
        "plt.plot(twolydrop2_epochs, twolydrop2_accuracy, 'go', label='Training acc')\n",
        "plt.plot(twolydrop2_epochs, twolydrop2_val_accuracy, 'g', label='Validation acc')\n",
        "plt.title('Training and validation accuracy')\n",
        "plt.xlabel('Epochs')\n",
        "plt.ylabel('Loss')\n",
        "plt.legend()\n",
        "\n"
      ],
      "metadata": {
        "colab": {
          "base_uri": "https://localhost:8080/",
          "height": 313
        },
        "id": "2-vpYOoQdQuO",
        "outputId": "b77c82b6-e71e-4eb2-d4f1-ae53d0e1f0e5"
      },
      "execution_count": null,
      "outputs": [
        {
          "output_type": "execute_result",
          "data": {
            "text/plain": [
              "<matplotlib.legend.Legend at 0x7fdac0aa3f70>"
            ]
          },
          "metadata": {},
          "execution_count": 12
        },
        {
          "output_type": "display_data",
          "data": {
            "text/plain": [
              "<Figure size 432x288 with 1 Axes>"
            ],
            "image/png": "[encoded data removed]"
          },
          "metadata": {
            "needs_background": "light"
          }
        }
      ]
    },
    {
      "cell_type": "markdown",
      "source": [
        "**The results show that the best accuracy on the validation set appears around 7 epochs.**"
      ],
      "metadata": {
        "id": "ifq5RHuvqMuF"
      }
    },
    {
      "cell_type": "markdown",
      "source": [
        "###**_Back Propagation- Retraining the model using 7 epochs._**"
      ],
      "metadata": {
        "id": "_wQ3THb5qZJK"
      }
    },
    {
      "cell_type": "code",
      "source": [
        "model_t10= models.Sequential()\n",
        "model_t10.add(layers.Dense(16, activation='relu', input_shape=(10000,)))\n",
        "model_t10.add(layers.Dropout(rate= 0.3))\n",
        "model_t10.add(layers.Dense(16, activation='relu'))\n",
        "model_t10.add(layers.Dropout(rate= 0.3))\n",
        "model_t10.add(layers.Dense(1, activation='sigmoid'))\n",
        "\n",
        "model_t10.compile(optimizer='rmsprop',\n",
        "              loss='binary_crossentropy',\n",
        "              metrics=['accuracy'])\n",
        "\n",
        "model_t10.fit(x_train, y_train, epochs=4, batch_size=512)\n",
        "results = model_t10.evaluate(x_test, y_test)"
      ],
      "metadata": {
        "colab": {
          "base_uri": "https://localhost:8080/"
        },
        "id": "7PXQ8L9edfl0",
        "outputId": "1b99f7a1-1012-42f9-9e9f-3e0a9f8b0035"
      },
      "execution_count": null,
      "outputs": [
        {
          "output_type": "stream",
          "name": "stdout",
          "text": [
            "Epoch 1/4\n",
            "49/49 [==============================] - 2s 30ms/step - loss: 0.5382 - accuracy: 0.7528\n",
            "Epoch 2/4\n",
            "49/49 [==============================] - 1s 29ms/step - loss: 0.3540 - accuracy: 0.8687\n",
            "Epoch 3/4\n",
            "49/49 [==============================] - 1s 29ms/step - loss: 0.2733 - accuracy: 0.9033\n",
            "Epoch 4/4\n",
            "49/49 [==============================] - 1s 28ms/step - loss: 0.2279 - accuracy: 0.9211\n",
            "782/782 [==============================] - 2s 3ms/step - loss: 0.2778 - accuracy: 0.8877\n"
          ]
        }
      ]
    },
    {
      "cell_type": "markdown",
      "source": [
        "**_The accuracy of the model on the test set is 88.77%_**"
      ],
      "metadata": {
        "id": "I4C3-U9XqhEL"
      }
    },
    {
      "cell_type": "markdown",
      "source": [
        "#**Summarizing the Accuracy and Loss of each model on the Test set** "
      ],
      "metadata": {
        "id": "neMHrbWrslJu"
      }
    },
    {
      "cell_type": "code",
      "source": [
        "import pandas as pd\n",
        "\n",
        "data = {'Model': ['Model 1','Model 2',\n",
        "                      'Model 3','Model 4',\n",
        "                      'Model 5','Model 6',\n",
        "                      'Model 7', 'Model 8',\n",
        "                      'Model 9', 'Model 10'],\n",
        "        'Loss Test': ['28.93%', '29.53%', '30.37%', '30.26%', '9.01%', '8.72%', '43.45%', '33.73%', '30.13%', '27.78%'],\n",
        "        'Accuracy Test': ['88.48%', '88.38%', '88.42%', '87.98%', '87.70%', '88.26%', '87.58%', '88.44%', '88.55%', '88.77%'],\n",
        "        'Number of Final Epochs': [4,4,5,5,2,4,2,3,8, 7]\n",
        "        }\n",
        "\n",
        "df = pd.DataFrame(data, columns = ['Model', 'Loss Test', 'Accuracy Test', 'Number of Final Epochs'])\n",
        "\n",
        "df"
      ],
      "metadata": {
        "colab": {
          "base_uri": "https://localhost:8080/",
          "height": 362
        },
        "id": "UfR0e7q1tJ4g",
        "outputId": "4431308f-8e1b-43cb-b97a-64861cfce11c"
      },
      "execution_count": null,
      "outputs": [
        {
          "output_type": "execute_result",
          "data": {
            "text/plain": [
              "      Model Loss Test Accuracy Test  Number of Final Epochs\n",
              "0   Model 1    28.93%        88.48%                       4\n",
              "1   Model 2    29.53%        88.38%                       4\n",
              "2   Model 3    30.37%        88.42%                       5\n",
              "3   Model 4    30.26%        87.98%                       5\n",
              "4   Model 5     9.01%        87.70%                       2\n",
              "5   Model 6     8.72%        88.26%                       4\n",
              "6   Model 7    43.45%        87.58%                       2\n",
              "7   Model 8    33.73%        88.44%                       3\n",
              "8   Model 9    30.13%        88.55%                       8\n",
              "9  Model 10    27.78%        88.77%                       7"
            ],
            "text/html": [
              "\n",
              "  <div id=\"df-b0ee4288-9cd9-43e2-acab-8ae0a80f1496\">\n",
              "    <div class=\"colab-df-container\">\n",
              "      <div>\n",
              "<style scoped>\n",
              "    .dataframe tbody tr th:only-of-type {\n",
              "        vertical-align: middle;\n",
              "    }\n",
              "\n",
              "    .dataframe tbody tr th {\n",
              "        vertical-align: top;\n",
              "    }\n",
              "\n",
              "    .dataframe thead th {\n",
              "        text-align: right;\n",
              "    }\n",
              "</style>\n",
              "<table border=\"1\" class=\"dataframe\">\n",
              "  <thead>\n",
              "    <tr style=\"text-align: right;\">\n",
              "      <th></th>\n",
              "      <th>Model</th>\n",
              "      <th>Loss Test</th>\n",
              "      <th>Accuracy Test</th>\n",
              "      <th>Number of Final Epochs</th>\n",
              "    </tr>\n",
              "  </thead>\n",
              "  <tbody>\n",
              "    <tr>\n",
              "      <th>0</th>\n",
              "      <td>Model 1</td>\n",
              "      <td>28.93%</td>\n",
              "      <td>88.48%</td>\n",
              "      <td>4</td>\n",
              "    </tr>\n",
              "    <tr>\n",
              "      <th>1</th>\n",
              "      <td>Model 2</td>\n",
              "      <td>29.53%</td>\n",
              "      <td>88.38%</td>\n",
              "      <td>4</td>\n",
              "    </tr>\n",
              "    <tr>\n",
              "      <th>2</th>\n",
              "      <td>Model 3</td>\n",
              "      <td>30.37%</td>\n",
              "      <td>88.42%</td>\n",
              "      <td>5</td>\n",
              "    </tr>\n",
              "    <tr>\n",
              "      <th>3</th>\n",
              "      <td>Model 4</td>\n",
              "      <td>30.26%</td>\n",
              "      <td>87.98%</td>\n",
              "      <td>5</td>\n",
              "    </tr>\n",
              "    <tr>\n",
              "      <th>4</th>\n",
              "      <td>Model 5</td>\n",
              "      <td>9.01%</td>\n",
              "      <td>87.70%</td>\n",
              "      <td>2</td>\n",
              "    </tr>\n",
              "    <tr>\n",
              "      <th>5</th>\n",
              "      <td>Model 6</td>\n",
              "      <td>8.72%</td>\n",
              "      <td>88.26%</td>\n",
              "      <td>4</td>\n",
              "    </tr>\n",
              "    <tr>\n",
              "      <th>6</th>\n",
              "      <td>Model 7</td>\n",
              "      <td>43.45%</td>\n",
              "      <td>87.58%</td>\n",
              "      <td>2</td>\n",
              "    </tr>\n",
              "    <tr>\n",
              "      <th>7</th>\n",
              "      <td>Model 8</td>\n",
              "      <td>33.73%</td>\n",
              "      <td>88.44%</td>\n",
              "      <td>3</td>\n",
              "    </tr>\n",
              "    <tr>\n",
              "      <th>8</th>\n",
              "      <td>Model 9</td>\n",
              "      <td>30.13%</td>\n",
              "      <td>88.55%</td>\n",
              "      <td>8</td>\n",
              "    </tr>\n",
              "    <tr>\n",
              "      <th>9</th>\n",
              "      <td>Model 10</td>\n",
              "      <td>27.78%</td>\n",
              "      <td>88.77%</td>\n",
              "      <td>7</td>\n",
              "    </tr>\n",
              "  </tbody>\n",
              "</table>\n",
              "</div>\n",
              "      <button class=\"colab-df-convert\" onclick=\"convertToInteractive('df-b0ee4288-9cd9-43e2-acab-8ae0a80f1496')\"\n",
              "              title=\"Convert this dataframe to an interactive table.\"\n",
              "              style=\"display:none;\">\n",
              "        \n",
              "  <svg xmlns=\"http://www.w3.org/2000/svg\" height=\"24px\"viewBox=\"0 0 24 24\"\n",
              "       width=\"24px\">\n",
              "    <path d=\"M0 0h24v24H0V0z\" fill=\"none\"/>\n",
              "    <path d=\"M18.56 5.44l.94 2.06.94-2.06 2.06-.94-2.06-.94-.94-2.06-.94 2.06-2.06.94zm-11 1L8.5 8.5l.94-2.06 2.06-.94-2.06-.94L8.5 2.5l-.94 2.06-2.06.94zm10 10l.94 2.06.94-2.06 2.06-.94-2.06-.94-.94-2.06-.94 2.06-2.06.94z\"/><path d=\"M17.41 7.96l-1.37-1.37c-.4-.4-.92-.59-1.43-.59-.52 0-1.04.2-1.43.59L10.3 9.45l-7.72 7.72c-.78.78-.78 2.05 0 2.83L4 21.41c.39.39.9.59 1.41.59.51 0 1.02-.2 1.41-.59l7.78-7.78 2.81-2.81c.8-.78.8-2.07 0-2.86zM5.41 20L4 18.59l7.72-7.72 1.47 1.35L5.41 20z\"/>\n",
              "  </svg>\n",
              "      </button>\n",
              "      \n",
              "  <style>\n",
              "    .colab-df-container {\n",
              "      display:flex;\n",
              "      flex-wrap:wrap;\n",
              "      gap: 12px;\n",
              "    }\n",
              "\n",
              "    .colab-df-convert {\n",
              "      background-color: #E8F0FE;\n",
              "      border: none;\n",
              "      border-radius: 50%;\n",
              "      cursor: pointer;\n",
              "      display: none;\n",
              "      fill: #1967D2;\n",
              "      height: 32px;\n",
              "      padding: 0 0 0 0;\n",
              "      width: 32px;\n",
              "    }\n",
              "\n",
              "    .colab-df-convert:hover {\n",
              "      background-color: #E2EBFA;\n",
              "      box-shadow: 0px 1px 2px rgba(60, 64, 67, 0.3), 0px 1px 3px 1px rgba(60, 64, 67, 0.15);\n",
              "      fill: #174EA6;\n",
              "    }\n",
              "\n",
              "    [theme=dark] .colab-df-convert {\n",
              "      background-color: #3B4455;\n",
              "      fill: #D2E3FC;\n",
              "    }\n",
              "\n",
              "    [theme=dark] .colab-df-convert:hover {\n",
              "      background-color: #434B5C;\n",
              "      box-shadow: 0px 1px 3px 1px rgba(0, 0, 0, 0.15);\n",
              "      filter: drop-shadow(0px 1px 2px rgba(0, 0, 0, 0.3));\n",
              "      fill: #FFFFFF;\n",
              "    }\n",
              "  </style>\n",
              "\n",
              "      <script>\n",
              "        const buttonEl =\n",
              "          document.querySelector('#df-b0ee4288-9cd9-43e2-acab-8ae0a80f1496 button.colab-df-convert');\n",
              "        buttonEl.style.display =\n",
              "          google.colab.kernel.accessAllowed ? 'block' : 'none';\n",
              "\n",
              "        async function convertToInteractive(key) {\n",
              "          const element = document.querySelector('#df-b0ee4288-9cd9-43e2-acab-8ae0a80f1496');\n",
              "          const dataTable =\n",
              "            await google.colab.kernel.invokeFunction('convertToInteractive',\n",
              "                                                     [key], {});\n",
              "          if (!dataTable) return;\n",
              "\n",
              "          const docLinkHtml = 'Like what you see? Visit the ' +\n",
              "            '<a target=\"_blank\" href=https://colab.research.google.com/notebooks/data_table.ipynb>data table notebook</a>'\n",
              "            + ' to learn more about interactive tables.';\n",
              "          element.innerHTML = '';\n",
              "          dataTable['output_type'] = 'display_data';\n",
              "          await google.colab.output.renderOutput(dataTable, element);\n",
              "          const docLink = document.createElement('div');\n",
              "          docLink.innerHTML = docLinkHtml;\n",
              "          element.appendChild(docLink);\n",
              "        }\n",
              "      </script>\n",
              "    </div>\n",
              "  </div>\n",
              "  "
            ]
          },
          "metadata": {},
          "execution_count": 4
        }
      ]
    },
    {
      "cell_type": "markdown",
      "source": [
        "##**Observation of Accuracy on the test set**"
      ],
      "metadata": {
        "id": "CgYwL51OyBDA"
      }
    },
    {
      "cell_type": "markdown",
      "source": [
        "The accuracies of Model 9 and Model 10 is the highest among all the other models.\n",
        "\n",
        "\n",
        "\n",
        "*   **Model 9** was built using 2 layers, 16 neurons, relu as the activation function, rmsprop as the optimizer, binary crossentropy as the loss function and dropout rate of 0.5\n",
        "*  **Model 10** was built using 2 layers, 16 neurons, relu as the activation function, rmsprop as the optimizer, binary crossentropy as the loss function and dropout rate of 0.3\n",
        "\n",
        "\n",
        "\n"
      ],
      "metadata": {
        "id": "UM2O70wtQbzK"
      }
    },
    {
      "cell_type": "markdown",
      "source": [
        "##**Observation of Loss value on the test set**"
      ],
      "metadata": {
        "id": "qkqOQh8STf-X"
      }
    },
    {
      "cell_type": "markdown",
      "source": [
        "The loss value of Model 5 and Model 6 is the least from among all the other models.\n",
        "\n",
        "\n",
        "\n",
        "* **Model 5** was built using 2 layers, 64 neurons, relu as the activation function, adam as the optimizer and mse as the loss function.\n",
        "* **Model 6** was built using 2 layers, 16 neurons, tanh as the activation function, rmsprop as the optimizer and mse as the loss function.\n",
        "\n"
      ],
      "metadata": {
        "id": "9TL-Jmo0TmW5"
      }
    },
    {
      "cell_type": "markdown",
      "source": [
        "#**_Model 9 and Model 10 results in the highest accuracy and Model 5 and Model 6 has the least loss value. Choosing the best model depends on either highest accuracy or least loss value._**\n",
        "\n",
        "##Model 5 and Model 6 even though they have least loss value, but the loss function used to build these models was mse. Mse is usually used for continuous variables, but here we are dealing with categorical output. Mse loss function is usually used for regression tasks.\n",
        "\n",
        "##Therfore, we will go with the model with highest accuracy, which will be **Model 10 with accuracy 88.77%**\n"
      ],
      "metadata": {
        "id": "2WrE8-DZUwBk"
      }
    }
  ]
}